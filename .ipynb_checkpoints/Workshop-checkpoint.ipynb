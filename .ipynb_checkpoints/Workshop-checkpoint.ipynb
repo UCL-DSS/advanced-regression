{
 "cells": [
  {
   "cell_type": "markdown",
   "id": "aba36bfd",
   "metadata": {},
   "source": [
    "# DS06 - Data Science with Python\n",
    "\n",
    "## Advanced regression techniques\n",
    "\n",
    "**Author**: Philip Wilkinson, Head of Science (21/22), UCL DSS\n",
    "\n",
    "**Date** 20th October 2021\n",
    "\n",
    "***Proudly presented by the UCL Data Science Society***\n",
    "\n",
    "### Introductoion\n",
    "\n",
    "Welcome to the Workshop on Advanced Regression techniques presented by the UCL Data Science Society. This builds on the foundation laid by the [Introduction to Regression workshop](https://github.com/UCL-DSS/linear-regression-workshop). In doing so, this coveres the topics of:\n",
    "\n",
    "1. [Linear regression recap](lrr)\n",
    "2. [Lasso regression](lr)\n",
    "3. [Ridge regression](rr)\n",
    "4. [Elastic net regression](enr)\n",
    "5. [Decision tree regression](dtr)\n",
    "6. [Random forest regression](rfr)\n",
    "\n",
    "The dataset that we use comes from [this source](https://archive.ics.uci.edu/ml/datasets/Energy+efficiency#) and focuses on energy efficiency of buildings based on simulated building layouts. More information on the dataset can be found in the relevant paper (link at the end of the workbook) but for our purposes the dataset has eight main attrubtes and two potential response. These are:\n",
    "\n",
    "- X1 Relative Compactness\n",
    "- X2 Surface Area\n",
    "- X3 Wall Area\n",
    "- X4 Roof Area\n",
    "- X5 Overall Height\n",
    "- X6 Orientation\n",
    "- X7 Glazing Area\n",
    "- X8 Glazing Area Distribution\n",
    "- y1 Heating Load\n",
    "- y2 Cooling Load\n",
    "\n",
    "We can thus take a look at the data before we perform an regressions:"
   ]
  },
  {
   "cell_type": "code",
   "execution_count": 3,
   "id": "b4888acc",
   "metadata": {},
   "outputs": [
    {
     "data": {
      "text/html": [
       "<div>\n",
       "<style scoped>\n",
       "    .dataframe tbody tr th:only-of-type {\n",
       "        vertical-align: middle;\n",
       "    }\n",
       "\n",
       "    .dataframe tbody tr th {\n",
       "        vertical-align: top;\n",
       "    }\n",
       "\n",
       "    .dataframe thead th {\n",
       "        text-align: right;\n",
       "    }\n",
       "</style>\n",
       "<table border=\"1\" class=\"dataframe\">\n",
       "  <thead>\n",
       "    <tr style=\"text-align: right;\">\n",
       "      <th></th>\n",
       "      <th>X1</th>\n",
       "      <th>X2</th>\n",
       "      <th>X3</th>\n",
       "      <th>X4</th>\n",
       "      <th>X5</th>\n",
       "      <th>X6</th>\n",
       "      <th>X7</th>\n",
       "      <th>X8</th>\n",
       "      <th>Y1</th>\n",
       "      <th>Y2</th>\n",
       "    </tr>\n",
       "  </thead>\n",
       "  <tbody>\n",
       "    <tr>\n",
       "      <th>0</th>\n",
       "      <td>0.98</td>\n",
       "      <td>514.5</td>\n",
       "      <td>294.0</td>\n",
       "      <td>110.25</td>\n",
       "      <td>7.0</td>\n",
       "      <td>2.0</td>\n",
       "      <td>0.0</td>\n",
       "      <td>0.0</td>\n",
       "      <td>15.55</td>\n",
       "      <td>21.33</td>\n",
       "    </tr>\n",
       "    <tr>\n",
       "      <th>1</th>\n",
       "      <td>0.98</td>\n",
       "      <td>514.5</td>\n",
       "      <td>294.0</td>\n",
       "      <td>110.25</td>\n",
       "      <td>7.0</td>\n",
       "      <td>3.0</td>\n",
       "      <td>0.0</td>\n",
       "      <td>0.0</td>\n",
       "      <td>15.55</td>\n",
       "      <td>21.33</td>\n",
       "    </tr>\n",
       "    <tr>\n",
       "      <th>2</th>\n",
       "      <td>0.98</td>\n",
       "      <td>514.5</td>\n",
       "      <td>294.0</td>\n",
       "      <td>110.25</td>\n",
       "      <td>7.0</td>\n",
       "      <td>4.0</td>\n",
       "      <td>0.0</td>\n",
       "      <td>0.0</td>\n",
       "      <td>15.55</td>\n",
       "      <td>21.33</td>\n",
       "    </tr>\n",
       "    <tr>\n",
       "      <th>3</th>\n",
       "      <td>0.98</td>\n",
       "      <td>514.5</td>\n",
       "      <td>294.0</td>\n",
       "      <td>110.25</td>\n",
       "      <td>7.0</td>\n",
       "      <td>5.0</td>\n",
       "      <td>0.0</td>\n",
       "      <td>0.0</td>\n",
       "      <td>15.55</td>\n",
       "      <td>21.33</td>\n",
       "    </tr>\n",
       "    <tr>\n",
       "      <th>4</th>\n",
       "      <td>0.90</td>\n",
       "      <td>563.5</td>\n",
       "      <td>318.5</td>\n",
       "      <td>122.50</td>\n",
       "      <td>7.0</td>\n",
       "      <td>2.0</td>\n",
       "      <td>0.0</td>\n",
       "      <td>0.0</td>\n",
       "      <td>20.84</td>\n",
       "      <td>28.28</td>\n",
       "    </tr>\n",
       "    <tr>\n",
       "      <th>...</th>\n",
       "      <td>...</td>\n",
       "      <td>...</td>\n",
       "      <td>...</td>\n",
       "      <td>...</td>\n",
       "      <td>...</td>\n",
       "      <td>...</td>\n",
       "      <td>...</td>\n",
       "      <td>...</td>\n",
       "      <td>...</td>\n",
       "      <td>...</td>\n",
       "    </tr>\n",
       "    <tr>\n",
       "      <th>763</th>\n",
       "      <td>0.64</td>\n",
       "      <td>784.0</td>\n",
       "      <td>343.0</td>\n",
       "      <td>220.50</td>\n",
       "      <td>3.5</td>\n",
       "      <td>5.0</td>\n",
       "      <td>0.4</td>\n",
       "      <td>5.0</td>\n",
       "      <td>17.88</td>\n",
       "      <td>21.40</td>\n",
       "    </tr>\n",
       "    <tr>\n",
       "      <th>764</th>\n",
       "      <td>0.62</td>\n",
       "      <td>808.5</td>\n",
       "      <td>367.5</td>\n",
       "      <td>220.50</td>\n",
       "      <td>3.5</td>\n",
       "      <td>2.0</td>\n",
       "      <td>0.4</td>\n",
       "      <td>5.0</td>\n",
       "      <td>16.54</td>\n",
       "      <td>16.88</td>\n",
       "    </tr>\n",
       "    <tr>\n",
       "      <th>765</th>\n",
       "      <td>0.62</td>\n",
       "      <td>808.5</td>\n",
       "      <td>367.5</td>\n",
       "      <td>220.50</td>\n",
       "      <td>3.5</td>\n",
       "      <td>3.0</td>\n",
       "      <td>0.4</td>\n",
       "      <td>5.0</td>\n",
       "      <td>16.44</td>\n",
       "      <td>17.11</td>\n",
       "    </tr>\n",
       "    <tr>\n",
       "      <th>766</th>\n",
       "      <td>0.62</td>\n",
       "      <td>808.5</td>\n",
       "      <td>367.5</td>\n",
       "      <td>220.50</td>\n",
       "      <td>3.5</td>\n",
       "      <td>4.0</td>\n",
       "      <td>0.4</td>\n",
       "      <td>5.0</td>\n",
       "      <td>16.48</td>\n",
       "      <td>16.61</td>\n",
       "    </tr>\n",
       "    <tr>\n",
       "      <th>767</th>\n",
       "      <td>0.62</td>\n",
       "      <td>808.5</td>\n",
       "      <td>367.5</td>\n",
       "      <td>220.50</td>\n",
       "      <td>3.5</td>\n",
       "      <td>5.0</td>\n",
       "      <td>0.4</td>\n",
       "      <td>5.0</td>\n",
       "      <td>16.64</td>\n",
       "      <td>16.03</td>\n",
       "    </tr>\n",
       "  </tbody>\n",
       "</table>\n",
       "<p>768 rows × 10 columns</p>\n",
       "</div>"
      ],
      "text/plain": [
       "       X1     X2     X3      X4   X5   X6   X7   X8     Y1     Y2\n",
       "0    0.98  514.5  294.0  110.25  7.0  2.0  0.0  0.0  15.55  21.33\n",
       "1    0.98  514.5  294.0  110.25  7.0  3.0  0.0  0.0  15.55  21.33\n",
       "2    0.98  514.5  294.0  110.25  7.0  4.0  0.0  0.0  15.55  21.33\n",
       "3    0.98  514.5  294.0  110.25  7.0  5.0  0.0  0.0  15.55  21.33\n",
       "4    0.90  563.5  318.5  122.50  7.0  2.0  0.0  0.0  20.84  28.28\n",
       "..    ...    ...    ...     ...  ...  ...  ...  ...    ...    ...\n",
       "763  0.64  784.0  343.0  220.50  3.5  5.0  0.4  5.0  17.88  21.40\n",
       "764  0.62  808.5  367.5  220.50  3.5  2.0  0.4  5.0  16.54  16.88\n",
       "765  0.62  808.5  367.5  220.50  3.5  3.0  0.4  5.0  16.44  17.11\n",
       "766  0.62  808.5  367.5  220.50  3.5  4.0  0.4  5.0  16.48  16.61\n",
       "767  0.62  808.5  367.5  220.50  3.5  5.0  0.4  5.0  16.64  16.03\n",
       "\n",
       "[768 rows x 10 columns]"
      ]
     },
     "execution_count": 3,
     "metadata": {},
     "output_type": "execute_result"
    }
   ],
   "source": [
    "import pandas as pd\n",
    "\n",
    "#read in the dataset\n",
    "data = pd.read_csv(\"data/ENB2012_data.csv\")\n",
    "#remove any data that doesn't have any information attached\n",
    "data.dropna(thresh = 3, inplace = True)\n",
    "data.dropna(axis = 1, inplace = True)\n",
    "#rpint out the data\n",
    "data"
   ]
  },
  {
   "cell_type": "markdown",
   "id": "e8a4a426",
   "metadata": {},
   "source": [
    "Before we start, you can use some of the knowledge gained from previous workshops ([notably the visualisation one](https://github.com/UCL-DSS/matplotlib-workshop)) to explore the dataset in more information)"
   ]
  },
  {
   "cell_type": "code",
   "execution_count": null,
   "id": "40fbf63a",
   "metadata": {},
   "outputs": [],
   "source": []
  },
  {
   "cell_type": "markdown",
   "id": "2abdc80b",
   "metadata": {},
   "source": [
    "However, as before, and as with most models that we create, we will split the dataset into a training and test set, so that we can see how well the model performs on unseen data:"
   ]
  },
  {
   "cell_type": "code",
   "execution_count": 4,
   "id": "f3ebd693",
   "metadata": {},
   "outputs": [],
   "source": [
    "#import the necessary data \n",
    "from sklearn.model_selection import train_test_split\n",
    "\n",
    "#remove the necessary target columns\n",
    "X = data.drop(columns = [\"Y1\", \"Y2\"])\n",
    "#set Y1 as our target\n",
    "y = data[[\"Y1\"]]\n",
    "\n",
    "#create the training and test dataset\n",
    "X_train, X_test, y_train, y_test = (\n",
    "    train_test_split(X, y , test_size = 0.3, random_state  = 42)\n",
    ")"
   ]
  },
  {
   "attachments": {
    "image.png": {
     "image/png": "[encoded data removed]"
    }
   },
   "cell_type": "markdown",
   "id": "d2e6b34f",
   "metadata": {},
   "source": [
    "## Bias\n",
    "\n",
    "Bias is the amount by which models predictions different from the actual target value in comparison to the training data. A high level of bias can lead to underfitting which occurs when the algorithm is unable to capture relevant relations between the existing features and target values. The opposite however is when there is no, or little, bias on the training data whereby we have overfitting on our existing data,\n",
    "\n",
    "## Variance\n",
    "\n",
    "Variance indicates the alteration in target function when new data is used to generate predictions. This can be referred to as the error associated with testing unseen data. Variance does not focus on overall ccuracy but instead simply measures the spread, or uncertainty, in model estimates.\n",
    "\n",
    "## Bias-variance trade-off\n",
    "\n",
    "During modelling phase it is necessary to make decisions about the level of bias and variance in the models. When building a supervised machine learning model, the goal is to achieve low bias and variance for the most accurate predictions. This means that we have to deal with the underfitting and overfitting problem. \n",
    "\n",
    "In this way, we can think of bias as how accurate the model (i.e. closeness to the target) while varince is how bunched together the predictions are in relation to the target. We aim to have both low bias (i.e. accurate), and low variance (i.e. consistently accurate), but there is often a trade-off between the two when we train the model. For example, in the case of overfitting the training data, we may be very accurate with the training data and so have low bias, but we will likely have high variance on unseen data as it has overfitted. However, we can reduce the degree of overfitting to allow the model to generalise the overall trends better, increasing the bias in the model potentially, in order to reduce the variance on unseen data. Thus, there is a degree of trade-off between the two.\n",
    "\n",
    "We can envision this as follows:\n",
    "\n",
    "\n",
    "![image.png](attachment:image.png)\n",
    "\n",
    "\n",
    "Where we are trying to achive that middle ground of as low a validation error as possible on new dataset, without going too far towards the low training error."
   ]
  },
  {
   "cell_type": "markdown",
   "id": "aa2e2a17",
   "metadata": {},
   "source": [
    "<a id=\"lrr\"></a>"
   ]
  },
  {
   "cell_type": "markdown",
   "id": "e31a61cc",
   "metadata": {},
   "source": [
    "## Linear regression\n",
    "\n",
    "The previous workshop showed us how Linear regression works whereby we are aimining to reduce the sum of squared error from the model, thus the model works to reduce the following equation:\n",
    "\n",
    "\\begin{equation}\n",
    "RSS = \\sum_{i=1}^n (y_i - \\hat{y}_i)^2\n",
    "\\end{equation}\n",
    "\n",
    "(Remember RSS means residual sum of squares)\n",
    "\n",
    "While this may be unbiased (relatively accurate on the test dataset), it can have large variance in cases where there are many predictors or the predictor variables are highly correlated with each other. We have already seen last week how we deal with potentially correlated independent variables (through a correlation matrix of VIF to remove variables before regression). However the other solution is through regularisation, which aims to reduce variance (the variance in the prediction of unseen data) at the cost of introducing some bias into the model. This is able to do so by adding some more information into the model and is is often overall beneficial to the predictive performance of the model.\n",
    "\n",
    "For now, however, we can see how well basic Linear Regression performs on our dataset as it currently is:"
   ]
  },
  {
   "cell_type": "code",
   "execution_count": 5,
   "id": "978d2caa",
   "metadata": {},
   "outputs": [],
   "source": [
    "#import the model\n",
    "from sklearn.linear_model import LinearRegression\n",
    "\n",
    "#create the regression\n",
    "reg = LinearRegression().fit(X_train, y_train)"
   ]
  },
  {
   "cell_type": "markdown",
   "id": "9db074d5",
   "metadata": {},
   "source": [
    "Once the regression has been fitted to the training data, we can then examine how well it performs against the data it trains against. We expect this to be high because we already know that the dataset has been designed that way and this is the data that it trains on:"
   ]
  },
  {
   "cell_type": "code",
   "execution_count": 6,
   "id": "8fd79b36",
   "metadata": {},
   "outputs": [
    {
     "name": "stdout",
     "output_type": "stream",
     "text": [
      "0.9171499705272056\n"
     ]
    }
   ],
   "source": [
    "reg_R2 = reg.score(X_train, y_train)\n",
    "print(reg_R2)"
   ]
  },
  {
   "cell_type": "markdown",
   "id": "f1e28d00",
   "metadata": {},
   "source": [
    "This shows the $R^2$ which indicates how much variation in the data is explained by the model and as we can see the value is over 0.9, indicating a good overall fit. \n",
    "\n",
    "We can see how the model has done this by exactracting the coefficients from the regresssion:"
   ]
  },
  {
   "cell_type": "code",
   "execution_count": 7,
   "id": "4d0f70f4",
   "metadata": {},
   "outputs": [
    {
     "data": {
      "text/html": [
       "<div>\n",
       "<style scoped>\n",
       "    .dataframe tbody tr th:only-of-type {\n",
       "        vertical-align: middle;\n",
       "    }\n",
       "\n",
       "    .dataframe tbody tr th {\n",
       "        vertical-align: top;\n",
       "    }\n",
       "\n",
       "    .dataframe thead th {\n",
       "        text-align: right;\n",
       "    }\n",
       "</style>\n",
       "<table border=\"1\" class=\"dataframe\">\n",
       "  <thead>\n",
       "    <tr style=\"text-align: right;\">\n",
       "      <th></th>\n",
       "      <th>var</th>\n",
       "      <th>coef</th>\n",
       "    </tr>\n",
       "  </thead>\n",
       "  <tbody>\n",
       "    <tr>\n",
       "      <th>0</th>\n",
       "      <td>X1</td>\n",
       "      <td>-6.378471e+01</td>\n",
       "    </tr>\n",
       "    <tr>\n",
       "      <th>1</th>\n",
       "      <td>X2</td>\n",
       "      <td>3.771506e+11</td>\n",
       "    </tr>\n",
       "    <tr>\n",
       "      <th>2</th>\n",
       "      <td>X3</td>\n",
       "      <td>-3.771506e+11</td>\n",
       "    </tr>\n",
       "    <tr>\n",
       "      <th>3</th>\n",
       "      <td>X4</td>\n",
       "      <td>-7.543013e+11</td>\n",
       "    </tr>\n",
       "    <tr>\n",
       "      <th>4</th>\n",
       "      <td>X5</td>\n",
       "      <td>4.125312e+00</td>\n",
       "    </tr>\n",
       "    <tr>\n",
       "      <th>5</th>\n",
       "      <td>X6</td>\n",
       "      <td>-2.333829e-02</td>\n",
       "    </tr>\n",
       "    <tr>\n",
       "      <th>6</th>\n",
       "      <td>X7</td>\n",
       "      <td>1.992648e+01</td>\n",
       "    </tr>\n",
       "    <tr>\n",
       "      <th>7</th>\n",
       "      <td>X8</td>\n",
       "      <td>2.305140e-01</td>\n",
       "    </tr>\n",
       "  </tbody>\n",
       "</table>\n",
       "</div>"
      ],
      "text/plain": [
       "  var          coef\n",
       "0  X1 -6.378471e+01\n",
       "1  X2  3.771506e+11\n",
       "2  X3 -3.771506e+11\n",
       "3  X4 -7.543013e+11\n",
       "4  X5  4.125312e+00\n",
       "5  X6 -2.333829e-02\n",
       "6  X7  1.992648e+01\n",
       "7  X8  2.305140e-01"
      ]
     },
     "execution_count": 7,
     "metadata": {},
     "output_type": "execute_result"
    }
   ],
   "source": [
    "#create a dataframe of the regression coefficients\n",
    "reg_coefs = pd.DataFrame({\"var\":X_train.columns.values,\n",
    "                          \"coef\":reg.coef_[0]})\n",
    "#show the dataframe\n",
    "reg_coefs"
   ]
  },
  {
   "cell_type": "markdown",
   "id": "9200fb11",
   "metadata": {},
   "source": [
    "What this shows us is the size and direction of the relationship between the independent variables and the dependent variables where we can see that X2-X4 have large effects, however this does not neccessarily tell us the significance of the relationship or which variables are important (if you want to know that then you can use statsmodels as below)"
   ]
  },
  {
   "cell_type": "code",
   "execution_count": 8,
   "id": "95e06fe1",
   "metadata": {},
   "outputs": [
    {
     "name": "stderr",
     "output_type": "stream",
     "text": [
      "C:\\Users\\phili\\anaconda3\\envs\\DSS\\lib\\site-packages\\statsmodels\\tsa\\tsatools.py:142: FutureWarning: In a future version of pandas all arguments of concat except for the argument 'objs' will be keyword-only\n",
      "  x = pd.concat(x[::order], 1)\n"
     ]
    },
    {
     "data": {
      "text/html": [
       "<table class=\"simpletable\">\n",
       "<caption>OLS Regression Results</caption>\n",
       "<tr>\n",
       "  <th>Dep. Variable:</th>           <td>Y1</td>        <th>  R-squared:         </th> <td>   0.917</td> \n",
       "</tr>\n",
       "<tr>\n",
       "  <th>Model:</th>                   <td>OLS</td>       <th>  Adj. R-squared:    </th> <td>   0.916</td> \n",
       "</tr>\n",
       "<tr>\n",
       "  <th>Method:</th>             <td>Least Squares</td>  <th>  F-statistic:       </th> <td>   838.7</td> \n",
       "</tr>\n",
       "<tr>\n",
       "  <th>Date:</th>             <td>Wed, 20 Oct 2021</td> <th>  Prob (F-statistic):</th> <td>1.16e-281</td>\n",
       "</tr>\n",
       "<tr>\n",
       "  <th>Time:</th>                 <td>15:19:08</td>     <th>  Log-Likelihood:    </th> <td> -1333.3</td> \n",
       "</tr>\n",
       "<tr>\n",
       "  <th>No. Observations:</th>      <td>   537</td>      <th>  AIC:               </th> <td>   2683.</td> \n",
       "</tr>\n",
       "<tr>\n",
       "  <th>Df Residuals:</th>          <td>   529</td>      <th>  BIC:               </th> <td>   2717.</td> \n",
       "</tr>\n",
       "<tr>\n",
       "  <th>Df Model:</th>              <td>     7</td>      <th>                     </th>     <td> </td>    \n",
       "</tr>\n",
       "<tr>\n",
       "  <th>Covariance Type:</th>      <td>nonrobust</td>    <th>                     </th>     <td> </td>    \n",
       "</tr>\n",
       "</table>\n",
       "<table class=\"simpletable\">\n",
       "<tr>\n",
       "    <td></td>       <th>coef</th>     <th>std err</th>      <th>t</th>      <th>P>|t|</th>  <th>[0.025</th>    <th>0.975]</th>  \n",
       "</tr>\n",
       "<tr>\n",
       "  <th>const</th> <td>   82.6807</td> <td>   22.495</td> <td>    3.676</td> <td> 0.000</td> <td>   38.490</td> <td>  126.871</td>\n",
       "</tr>\n",
       "<tr>\n",
       "  <th>X1</th>    <td>  -63.8719</td> <td>   12.182</td> <td>   -5.243</td> <td> 0.000</td> <td>  -87.802</td> <td>  -39.942</td>\n",
       "</tr>\n",
       "<tr>\n",
       "  <th>X2</th>    <td>   -0.0620</td> <td>    0.016</td> <td>   -3.919</td> <td> 0.000</td> <td>   -0.093</td> <td>   -0.031</td>\n",
       "</tr>\n",
       "<tr>\n",
       "  <th>X3</th>    <td>    0.0372</td> <td>    0.005</td> <td>    8.085</td> <td> 0.000</td> <td>    0.028</td> <td>    0.046</td>\n",
       "</tr>\n",
       "<tr>\n",
       "  <th>X4</th>    <td>   -0.0496</td> <td>    0.009</td> <td>   -5.578</td> <td> 0.000</td> <td>   -0.067</td> <td>   -0.032</td>\n",
       "</tr>\n",
       "<tr>\n",
       "  <th>X5</th>    <td>    4.1255</td> <td>    0.401</td> <td>   10.285</td> <td> 0.000</td> <td>    3.338</td> <td>    4.913</td>\n",
       "</tr>\n",
       "<tr>\n",
       "  <th>X6</th>    <td>   -0.0236</td> <td>    0.114</td> <td>   -0.207</td> <td> 0.836</td> <td>   -0.248</td> <td>    0.201</td>\n",
       "</tr>\n",
       "<tr>\n",
       "  <th>X7</th>    <td>   19.9267</td> <td>    0.962</td> <td>   20.723</td> <td> 0.000</td> <td>   18.038</td> <td>   21.816</td>\n",
       "</tr>\n",
       "<tr>\n",
       "  <th>X8</th>    <td>    0.2307</td> <td>    0.083</td> <td>    2.767</td> <td> 0.006</td> <td>    0.067</td> <td>    0.395</td>\n",
       "</tr>\n",
       "</table>\n",
       "<table class=\"simpletable\">\n",
       "<tr>\n",
       "  <th>Omnibus:</th>       <td>15.777</td> <th>  Durbin-Watson:     </th> <td>   1.902</td>\n",
       "</tr>\n",
       "<tr>\n",
       "  <th>Prob(Omnibus):</th> <td> 0.000</td> <th>  Jarque-Bera (JB):  </th> <td>  32.927</td>\n",
       "</tr>\n",
       "<tr>\n",
       "  <th>Skew:</th>          <td> 0.056</td> <th>  Prob(JB):          </th> <td>7.08e-08</td>\n",
       "</tr>\n",
       "<tr>\n",
       "  <th>Kurtosis:</th>      <td> 4.208</td> <th>  Cond. No.          </th> <td>6.37e+16</td>\n",
       "</tr>\n",
       "</table><br/><br/>Notes:<br/>[1] Standard Errors assume that the covariance matrix of the errors is correctly specified.<br/>[2] The smallest eigenvalue is 7.91e-26. This might indicate that there are<br/>strong multicollinearity problems or that the design matrix is singular."
      ],
      "text/plain": [
       "<class 'statsmodels.iolib.summary.Summary'>\n",
       "\"\"\"\n",
       "                            OLS Regression Results                            \n",
       "==============================================================================\n",
       "Dep. Variable:                     Y1   R-squared:                       0.917\n",
       "Model:                            OLS   Adj. R-squared:                  0.916\n",
       "Method:                 Least Squares   F-statistic:                     838.7\n",
       "Date:                Wed, 20 Oct 2021   Prob (F-statistic):          1.16e-281\n",
       "Time:                        15:19:08   Log-Likelihood:                -1333.3\n",
       "No. Observations:                 537   AIC:                             2683.\n",
       "Df Residuals:                     529   BIC:                             2717.\n",
       "Df Model:                           7                                         \n",
       "Covariance Type:            nonrobust                                         \n",
       "==============================================================================\n",
       "                 coef    std err          t      P>|t|      [0.025      0.975]\n",
       "------------------------------------------------------------------------------\n",
       "const         82.6807     22.495      3.676      0.000      38.490     126.871\n",
       "X1           -63.8719     12.182     -5.243      0.000     -87.802     -39.942\n",
       "X2            -0.0620      0.016     -3.919      0.000      -0.093      -0.031\n",
       "X3             0.0372      0.005      8.085      0.000       0.028       0.046\n",
       "X4            -0.0496      0.009     -5.578      0.000      -0.067      -0.032\n",
       "X5             4.1255      0.401     10.285      0.000       3.338       4.913\n",
       "X6            -0.0236      0.114     -0.207      0.836      -0.248       0.201\n",
       "X7            19.9267      0.962     20.723      0.000      18.038      21.816\n",
       "X8             0.2307      0.083      2.767      0.006       0.067       0.395\n",
       "==============================================================================\n",
       "Omnibus:                       15.777   Durbin-Watson:                   1.902\n",
       "Prob(Omnibus):                  0.000   Jarque-Bera (JB):               32.927\n",
       "Skew:                           0.056   Prob(JB):                     7.08e-08\n",
       "Kurtosis:                       4.208   Cond. No.                     6.37e+16\n",
       "==============================================================================\n",
       "\n",
       "Notes:\n",
       "[1] Standard Errors assume that the covariance matrix of the errors is correctly specified.\n",
       "[2] The smallest eigenvalue is 7.91e-26. This might indicate that there are\n",
       "strong multicollinearity problems or that the design matrix is singular.\n",
       "\"\"\""
      ]
     },
     "execution_count": 8,
     "metadata": {},
     "output_type": "execute_result"
    }
   ],
   "source": [
    "import statsmodels.api as sm\n",
    "\n",
    "X_train_sm = sm.add_constant(X_train)\n",
    "est = sm.OLS(y_train, X_train_sm).fit()\n",
    "est.summary()"
   ]
  },
  {
   "cell_type": "markdown",
   "id": "1b7b3ee7",
   "metadata": {},
   "source": [
    "Which shows us that only the X6 variable does not appear to be significant in this relationship. \n",
    "\n",
    "However, proceeding on the basis of the original model, we can use this model to predict unseen data from the dataset to examine whether the original model has over or underfitted. If the model was to overfit, then we would see it struggle to predict the unseen data because it has learn the nuances of the training data too much, while if the model was to underfit it would also struggle to predict the new test data. "
   ]
  },
  {
   "cell_type": "code",
   "execution_count": 9,
   "id": "d5d9585a",
   "metadata": {},
   "outputs": [
    {
     "data": {
      "text/plain": [
       "array([[18.76006989],\n",
       "       [13.9663192 ],\n",
       "       [31.15215145],\n",
       "       [35.86711684],\n",
       "       [15.29077304],\n",
       "       [28.6389732 ],\n",
       "       [24.9203539 ],\n",
       "       [27.93266479],\n",
       "       [17.61154181],\n",
       "       [27.5439572 ],\n",
       "       [18.00255503],\n",
       "       [34.30572125],\n",
       "       [27.70445638],\n",
       "       [ 8.59481447],\n",
       "       [18.53359798],\n",
       "       [36.83366577],\n",
       "       [37.50186961],\n",
       "       [11.35327304],\n",
       "       [15.18580585],\n",
       "       [34.28238296],\n",
       "       [34.38640438],\n",
       "       [35.22225129],\n",
       "       [10.93067001],\n",
       "       [29.9358482 ],\n",
       "       [12.53231447],\n",
       "       [29.91250991],\n",
       "       [33.26805009],\n",
       "       [34.31638951],\n",
       "       [14.6225692 ],\n",
       "       [15.70108242],\n",
       "       [ 7.92661063],\n",
       "       [10.84556838],\n",
       "       [15.06025899],\n",
       "       [30.93640368],\n",
       "       [29.17429121],\n",
       "       [27.88598822],\n",
       "       [30.85162254],\n",
       "       [29.19762949],\n",
       "       [33.2447118 ],\n",
       "       [ 8.93067001],\n",
       "       [28.57753035],\n",
       "       [11.37661133],\n",
       "       [ 6.70750756],\n",
       "       [32.37888951],\n",
       "       [ 7.41834585],\n",
       "       [ 6.68416927],\n",
       "       [ 8.68416927],\n",
       "       [ 8.9540083 ],\n",
       "       [28.92888882],\n",
       "       [30.92394303],\n",
       "       [33.49856414],\n",
       "       [14.88837537],\n",
       "       [14.12681838],\n",
       "       [32.85480594],\n",
       "       [12.8183605 ],\n",
       "       [12.27846214],\n",
       "       [10.89224495],\n",
       "       [31.81178328],\n",
       "       [40.28366647],\n",
       "       [37.06417981],\n",
       "       [16.5181714 ],\n",
       "       [19.22109798],\n",
       "       [14.8183605 ],\n",
       "       [28.82281067],\n",
       "       [28.55419206],\n",
       "       [29.86583333],\n",
       "       [29.88917162],\n",
       "       [10.97734659],\n",
       "       [12.94262385],\n",
       "       [11.12275899],\n",
       "       [27.03625254],\n",
       "       [31.61317953],\n",
       "       [13.57587537],\n",
       "       [28.15460683],\n",
       "       [32.14837547],\n",
       "       [10.86890666],\n",
       "       [34.80075589],\n",
       "       [31.39743177],\n",
       "       [30.69112336],\n",
       "       [23.74009205],\n",
       "       [25.40472027],\n",
       "       [32.92482081],\n",
       "       [ 9.3916981 ],\n",
       "       [15.77109728],\n",
       "       [11.41503638],\n",
       "       [15.87734798],\n",
       "       [26.40094429],\n",
       "       [36.57981344],\n",
       "       [29.22096778],\n",
       "       [14.55255433],\n",
       "       [11.84077234],\n",
       "       [31.12024115],\n",
       "       [ 9.6415083 ],\n",
       "       [14.65786133],\n",
       "       [37.04084153],\n",
       "       [14.61118475],\n",
       "       [26.88531067],\n",
       "       [29.87428328],\n",
       "       [ 9.66888872],\n",
       "       [ 8.97734659],\n",
       "       [39.59212434],\n",
       "       [27.65547418],\n",
       "       [ 7.69609659],\n",
       "       [28.00498529],\n",
       "       [29.41325519],\n",
       "       [18.52955585],\n",
       "       [27.87741621],\n",
       "       [18.99058394],\n",
       "       [16.03380503],\n",
       "       [10.63839262],\n",
       "       [33.79801658],\n",
       "       [32.90993246],\n",
       "       [24.68983985],\n",
       "       [17.36964332],\n",
       "       [11.07608242],\n",
       "       [15.16246756],\n",
       "       [10.28637385],\n",
       "       [ 8.15712467],\n",
       "       [13.55253708],\n",
       "       [24.7897518 ],\n",
       "       [27.77447125],\n",
       "       [10.51688789],\n",
       "       [31.3210018 ],\n",
       "       [15.47056838],\n",
       "       [27.29010487],\n",
       "       [18.46358311],\n",
       "       [16.28765736],\n",
       "       [30.09634738],\n",
       "       [25.38138198],\n",
       "       [39.56878605],\n",
       "       [22.44333912],\n",
       "       [34.23570638],\n",
       "       [15.49390666],\n",
       "       [14.13506989],\n",
       "       [15.13912927],\n",
       "       [18.25640736],\n",
       "       [32.8399176 ],\n",
       "       [35.84377855],\n",
       "       [13.83454099],\n",
       "       [17.81871756],\n",
       "       [ 8.90733172],\n",
       "       [40.23698989],\n",
       "       [28.37035459],\n",
       "       [30.94728132],\n",
       "       [33.72907818],\n",
       "       [11.18452234],\n",
       "       [ 8.34096214],\n",
       "       [27.01291425],\n",
       "       [33.95959222],\n",
       "       [32.39377786],\n",
       "       [33.01419776],\n",
       "       [29.22941772],\n",
       "       [28.99890368],\n",
       "       [12.61118475],\n",
       "       [27.94743107],\n",
       "       [17.79537927],\n",
       "       [29.18274115],\n",
       "       [30.02522515],\n",
       "       [11.59887385],\n",
       "       [30.30241577],\n",
       "       [32.99085947],\n",
       "       [32.18660211],\n",
       "       [18.94390736],\n",
       "       [11.58692001],\n",
       "       [14.82974495],\n",
       "       [12.25512385],\n",
       "       [28.36178258],\n",
       "       [33.59084083],\n",
       "       [34.53623529],\n",
       "       [ 9.82534577],\n",
       "       [10.09793414],\n",
       "       [33.56750254],\n",
       "       [ 8.61815276],\n",
       "       [31.3593272 ],\n",
       "       [13.19647618],\n",
       "       [35.68327938],\n",
       "       [11.13784577],\n",
       "       [14.57275969],\n",
       "       [34.05186891],\n",
       "       [34.0752072 ],\n",
       "       [ 6.75418414],\n",
       "       [15.87330585],\n",
       "       [33.22137352],\n",
       "       [14.5494214 ],\n",
       "       [30.07190173],\n",
       "       [11.86411063],\n",
       "       [28.39369288],\n",
       "       [13.62736523],\n",
       "       [11.89630433],\n",
       "       [35.40608876],\n",
       "       [24.81309009],\n",
       "       [17.11579099],\n",
       "       [36.81032748],\n",
       "       [ 7.6727583 ],\n",
       "       [32.46379272],\n",
       "       [33.13199656],\n",
       "       [25.15086794],\n",
       "       [13.52919879],\n",
       "       [27.63213589],\n",
       "       [11.20786063],\n",
       "       [14.88527694],\n",
       "       [33.45188756],\n",
       "       [18.92056907],\n",
       "       [29.3899169 ],\n",
       "       [ 9.38709585],\n",
       "       [34.36306609],\n",
       "       [28.17794511],\n",
       "       [28.60086863],\n",
       "       [26.00993107],\n",
       "       [12.58380433],\n",
       "       [34.59358013],\n",
       "       [17.8306714 ],\n",
       "       [18.29904181],\n",
       "       [30.66778507],\n",
       "       [ 5.47293414],\n",
       "       [13.32202304],\n",
       "       [27.93497042],\n",
       "       [29.62043094],\n",
       "       [31.09690286],\n",
       "       [13.89630433],\n",
       "       [28.13126854],\n",
       "       [ 9.61817001],\n",
       "       [24.64316328],\n",
       "       [32.90148252],\n",
       "       [18.4869214 ],\n",
       "       [15.57681907],\n",
       "       [17.77204099],\n",
       "       [27.72779467],\n",
       "       [31.94119972],\n",
       "       [14.59923091],\n",
       "       [30.88972711]])"
      ]
     },
     "execution_count": 9,
     "metadata": {},
     "output_type": "execute_result"
    }
   ],
   "source": [
    "#predict the data\n",
    "reg_predict = reg.predict(X_test)\n",
    "#examine the predictions\n",
    "reg_predict"
   ]
  },
  {
   "cell_type": "markdown",
   "id": "3b13f1f7",
   "metadata": {},
   "source": [
    "We can see that we have been able to predict the test data, but of course we want to see how well is has performed in terms of the same metric as we scored the training data. We can run this as:"
   ]
  },
  {
   "cell_type": "code",
   "execution_count": 10,
   "id": "9b7924bc",
   "metadata": {},
   "outputs": [
    {
     "name": "stdout",
     "output_type": "stream",
     "text": [
      "0.9125282369870786\n"
     ]
    }
   ],
   "source": [
    "print(reg.score(X_test, y_test))"
   ]
  },
  {
   "cell_type": "markdown",
   "id": "3788f459",
   "metadata": {},
   "source": [
    "What we can see from this is that the basic linear model has performed well at both the training and test level, which suggests that this model is okay for predicting new data as not a lot of explanatory power is lost. \n",
    "\n",
    "While this may be the case for this dataset and this model however, it won't necessarily be the case for all datasets that we encounted. Thus, with that in mind we can then try to use other models, that perform regularisation and feature selection for us, here to see how they work and thus be able to understand when to use them in practice in the future."
   ]
  },
  {
   "cell_type": "markdown",
   "id": "49200b02",
   "metadata": {},
   "source": [
    "<a id = \"lr\"></a>"
   ]
  },
  {
   "cell_type": "markdown",
   "id": "e54cbfe7",
   "metadata": {},
   "source": [
    "## Lasso regression\n",
    "\n",
    "Lasso regression is short for <b>least absolute shrinkage and selection operator</b> and is a regression method that performs both variable selection and regularisation to be able to increase the prediction accuracy and interpretability of the regression model. \n",
    "\n",
    "We have already seen what variable selection is all about in the previous workshop in linear regression whereby we removed variables according to their correlation with each other or their lack of significance in the regression. This therefore improves the effectiveness of the model by only using variables that are important to our target variable and those that actually have a relationship with the target variable, thereby improving both the effectiveness and efficiency of our model.\n",
    "\n",
    "In contrast, regularisation attempts to solve the issue of overfitting. What is overfitting? Overfitting is where the model trains on the training data, performing well on it, but then struggles when it is introduced to new data beyond that which it is trained on. Regularisation attempts to solve this by introducing a punishment, or constraint, in order to avoid the model overtraining on the data that it works on. Lasso regression is one way of doing this by using so called \"L1 Regularisation\". Here, a penalty term is added to the ordinary least squares regression objective (Reducing the sum of squares) such that the regression objective becomes:\n",
    "\n",
    "\\begin{equation}\n",
    "RSS_{LASSO} (w, b) = \\sum_{i=1}^N (y_i -(w \\cdot x_i + b))^2 + \\alpha \\sum_{j=1}^p  | w_j | \n",
    "\\end{equation}\n",
    "\n",
    "The penalty introduced here, given by the second part of the equation, is equivalent to the <b>sum of the absolute values</b> of the coefficients. This means that a subset of the coefficients are forced to be precisely zero (i.e. some $\\beta$ values are forced to be 0), acting an automatic feature selection whereby those with a zero coefficient are ignored in the model. This means that only a subset of the most important features are left with non-zero weights, making the model effectively easier to interpret.\n",
    "\n",
    "The extent of this however is controlled by the $\\alpha$ paramater, meaning that we can control the tradeoff between under and overfitting to find a cosy middle ground. This is because, as $\\alpha$ increases, it reduces the values of the coefficients and reduces the variance (avoiing overfitting), but after a certain value then the model begins to loose important understanding of the data and increases bias (leading to underfitting). Thus, the value of $\\alpha$ should be carefully selected by using hyperparamater tuning or cross vlidation.\n",
    "\n",
    "For now however, we can implement a simple Lasso regression, in a way that is pretty similar to how we implemented the basic linear regression:"
   ]
  },
  {
   "cell_type": "code",
   "execution_count": 11,
   "id": "0b95e143",
   "metadata": {},
   "outputs": [
    {
     "data": {
      "text/plain": [
       "Lasso(alpha=0.1)"
      ]
     },
     "execution_count": 11,
     "metadata": {},
     "output_type": "execute_result"
    }
   ],
   "source": [
    "#import the linear model class\n",
    "from sklearn import linear_model\n",
    "\n",
    "#initiate the model with an alpha = 0.1\n",
    "lasso_model = linear_model.Lasso(alpha = 0.1)\n",
    "#fit the model to the data\n",
    "lasso_model.fit(X=X_train, y=y_train)"
   ]
  },
  {
   "cell_type": "markdown",
   "id": "0d29a611",
   "metadata": {},
   "source": [
    "We can see above that implementing a lasso regression model follows pretty much the same syntax as for implementing a lineaer regression. However, when creating this we had to specify the alpha value for implementation (the default being 0.1), which as we known affects the penalty applied to the cefficients. \n",
    "\n",
    "In this case, as before, we can examine the coefficients from the model by exacting them from the model implementation as follows:"
   ]
  },
  {
   "cell_type": "code",
   "execution_count": 12,
   "id": "2910839f",
   "metadata": {},
   "outputs": [
    {
     "data": {
      "text/html": [
       "<div>\n",
       "<style scoped>\n",
       "    .dataframe tbody tr th:only-of-type {\n",
       "        vertical-align: middle;\n",
       "    }\n",
       "\n",
       "    .dataframe tbody tr th {\n",
       "        vertical-align: top;\n",
       "    }\n",
       "\n",
       "    .dataframe thead th {\n",
       "        text-align: right;\n",
       "    }\n",
       "</style>\n",
       "<table border=\"1\" class=\"dataframe\">\n",
       "  <thead>\n",
       "    <tr style=\"text-align: right;\">\n",
       "      <th></th>\n",
       "      <th>var</th>\n",
       "      <th>coef</th>\n",
       "    </tr>\n",
       "  </thead>\n",
       "  <tbody>\n",
       "    <tr>\n",
       "      <th>0</th>\n",
       "      <td>X1</td>\n",
       "      <td>-0.000000</td>\n",
       "    </tr>\n",
       "    <tr>\n",
       "      <th>1</th>\n",
       "      <td>X2</td>\n",
       "      <td>0.001935</td>\n",
       "    </tr>\n",
       "    <tr>\n",
       "      <th>2</th>\n",
       "      <td>X3</td>\n",
       "      <td>0.050211</td>\n",
       "    </tr>\n",
       "    <tr>\n",
       "      <th>3</th>\n",
       "      <td>X4</td>\n",
       "      <td>-0.000000</td>\n",
       "    </tr>\n",
       "    <tr>\n",
       "      <th>4</th>\n",
       "      <td>X5</td>\n",
       "      <td>4.823518</td>\n",
       "    </tr>\n",
       "    <tr>\n",
       "      <th>5</th>\n",
       "      <td>X6</td>\n",
       "      <td>-0.000000</td>\n",
       "    </tr>\n",
       "    <tr>\n",
       "      <th>6</th>\n",
       "      <td>X7</td>\n",
       "      <td>14.491866</td>\n",
       "    </tr>\n",
       "    <tr>\n",
       "      <th>7</th>\n",
       "      <td>X8</td>\n",
       "      <td>0.291431</td>\n",
       "    </tr>\n",
       "  </tbody>\n",
       "</table>\n",
       "</div>"
      ],
      "text/plain": [
       "  var       coef\n",
       "0  X1  -0.000000\n",
       "1  X2   0.001935\n",
       "2  X3   0.050211\n",
       "3  X4  -0.000000\n",
       "4  X5   4.823518\n",
       "5  X6  -0.000000\n",
       "6  X7  14.491866\n",
       "7  X8   0.291431"
      ]
     },
     "execution_count": 12,
     "metadata": {},
     "output_type": "execute_result"
    }
   ],
   "source": [
    "#extract the coefficients\n",
    "df_coef_lasso = pd.DataFrame({\"var\": X_train.columns.values, \n",
    "                              \"coef\":lasso_model.coef_})\n",
    "#show the dataframe\n",
    "df_coef_lasso"
   ]
  },
  {
   "cell_type": "markdown",
   "id": "0814bd49",
   "metadata": {},
   "source": [
    "From this we can see that our coefficients appear slightly different to the original, linear regression, model and that some of these coefficients have effectively been reduced to 0. This means that the penalty introduced, in order to avoid overfitting, has meant that some variables (in this case X1, X4 and X6) are no longer important in the regression equation. With this in mind then, knowing that the model has reduced complexity in the regression equation to avoid overfitting, we can examine the score of the model on the training dataset:"
   ]
  },
  {
   "cell_type": "code",
   "execution_count": 13,
   "id": "4ed73609",
   "metadata": {},
   "outputs": [
    {
     "data": {
      "text/plain": [
       "0.9068673512124443"
      ]
     },
     "execution_count": 13,
     "metadata": {},
     "output_type": "execute_result"
    }
   ],
   "source": [
    "lasso_model.score(X_train, y_train)"
   ]
  },
  {
   "cell_type": "markdown",
   "id": "34df40f9",
   "metadata": {},
   "source": [
    "We can see from this score in that although it may be lower than the original model it has managed to achieve this score with fewer explicit variables in the model. In some cases, this may lead to an improved adjusted $R^2$ (although admittedly not in this case) due to reducing the model complexity required to reach the same level of predictive power. \n",
    "\n",
    "With this in mind, we can us the model to predict the test dataset as we did before:"
   ]
  },
  {
   "cell_type": "code",
   "execution_count": 14,
   "id": "9f9b7b97",
   "metadata": {},
   "outputs": [
    {
     "data": {
      "text/plain": [
       "array([18.97708071, 13.66525464, 31.59991728, 34.58876544, 15.81713996,\n",
       "       28.9636137 , 26.9609264 , 29.13470629, 17.1166265 , 28.57736053,\n",
       "       17.69948873, 33.97915955, 28.86879164,  8.82442329, 18.28235096,\n",
       "       35.5700772 , 36.44437055, 10.70677205, 13.57528168, 33.97915955,\n",
       "       33.01974234, 33.71447209, 11.49147476, 30.24120567, 13.9347912 ,\n",
       "       30.24120567, 32.63348917, 33.01974234, 14.94284662, 16.80330082,\n",
       "        7.95012994, 10.12390982, 15.52570885, 30.26310023, 29.36691233,\n",
       "       29.13470629, 31.30848617, 29.36691233, 32.63348917,  8.9362908 ,\n",
       "       30.00899963, 10.70677205,  7.1956731 , 31.74215037,  8.47326508,\n",
       "        7.1956731 ,  9.75085706,  8.9362908 , 28.98550825, 31.33400264,\n",
       "       32.92492029, 14.8309791 , 13.95668575, 32.41498555, 12.27579514,\n",
       "       13.64336008, 10.12390982, 31.42882469, 38.32671931, 35.86150832,\n",
       "       15.727167  , 19.55994294, 14.8309791 , 29.25504481, 30.00899963,\n",
       "       30.24120567, 30.24120567, 11.49147476, 14.92095206, 10.41534094,\n",
       "       27.99449829, 32.18277951, 13.55338712, 28.38075147, 31.45071925,\n",
       "       10.12390982, 33.60260457, 30.84596246, 31.01705505, 25.07111067,\n",
       "       27.54378864, 32.41498555,  9.51915303, 16.80330082, 12.07433699,\n",
       "       14.44957503, 27.3945906 , 35.27864609, 29.36691233, 14.94284662,\n",
       "       13.06049785, 30.55453135, 10.21388278, 14.53954798, 35.86150832,\n",
       "       14.53954798, 27.97745283, 30.15123272,  9.81058415,  8.9362908 ,\n",
       "       37.45242597, 28.84327517,  7.65869883, 29.16022276, 29.56837048,\n",
       "       18.68564959, 28.08932035, 19.26851182, 15.14430477,  9.83247871,\n",
       "       33.39629732, 32.3250126 , 26.66949529, 16.42189675, 10.41534094,\n",
       "       13.57528168, 11.08817613,  8.24156106, 13.55338712, 26.25388059,\n",
       "       28.86879164, 11.37960724, 31.3642485 , 16.51186971, 28.28592941,\n",
       "       18.28235096, 15.43573589, 30.53263679, 27.54378864, 37.45242597,\n",
       "       24.92887759, 33.97915955, 16.51186971, 12.58912082, 13.57528168,\n",
       "       17.99091984, 32.3250126 , 34.58876544, 12.2976897 , 17.40805761,\n",
       "        8.9362908 , 38.32671931, 29.71756852, 31.33400264, 33.2163514 ,\n",
       "       11.78290587,  8.53299217, 27.99449829, 33.50778252, 31.83212332,\n",
       "       32.34205806, 29.27693937, 28.98550825, 11.98436403, 28.08932035,\n",
       "       17.40805761, 29.27693937, 30.16827818, 12.3657681 , 30.45970929,\n",
       "       32.34205806, 31.54069221, 19.26851182, 12.76906674, 15.23427773,\n",
       "       13.64336008, 28.67218258, 33.1048662 , 34.27059067, 10.5053139 ,\n",
       "       12.30604101, 33.1048662 ,  8.82442329, 31.8913484 , 15.21238317,\n",
       "       34.29733432, 11.78290587, 13.17198305, 33.68772844, 33.68772844,\n",
       "        7.1956731 , 14.85287366, 32.63348917, 13.17198305, 30.16827818,\n",
       "       13.06049785, 29.71756852, 12.00625859, 11.11007068, 34.00590321,\n",
       "       26.25388059, 16.13046563, 35.5700772 ,  7.65869883, 31.83212332,\n",
       "       32.70641667, 27.25235752, 13.55338712, 28.84327517, 11.78290587,\n",
       "       13.28385056, 32.92492029, 19.26851182, 29.56837048, 11.02844903,\n",
       "       33.01974234, 28.38075147, 30.00899963, 26.81172837, 12.38766266,\n",
       "       33.31117346, 17.00475898, 18.39421847, 31.01705505,  5.91808112,\n",
       "       13.26195601, 29.16022276, 29.8598016 , 30.55453135, 13.66525464,\n",
       "       28.38075147, 10.21388278, 26.66949529, 32.41498555, 18.28235096,\n",
       "       14.15814391, 17.40805761, 28.86879164, 31.15928813, 14.94284662,\n",
       "       30.26310023])"
      ]
     },
     "execution_count": 14,
     "metadata": {},
     "output_type": "execute_result"
    }
   ],
   "source": [
    "lasso_model.predict(X_test)"
   ]
  },
  {
   "cell_type": "markdown",
   "id": "cbc3eca3",
   "metadata": {},
   "source": [
    "And check how well the model did on that new dataset:"
   ]
  },
  {
   "cell_type": "code",
   "execution_count": 15,
   "id": "114e0017",
   "metadata": {},
   "outputs": [
    {
     "data": {
      "text/plain": [
       "0.9036176174398927"
      ]
     },
     "execution_count": 15,
     "metadata": {},
     "output_type": "execute_result"
    }
   ],
   "source": [
    "#R2 score\n",
    "lasso_model.score(X=X_test, y=y_test)"
   ]
  },
  {
   "cell_type": "markdown",
   "id": "408e1b59",
   "metadata": {},
   "source": [
    "While in this case the lasso model has not improved the models ability to predict unseen data (as the $R^2$ is lower), we can begin to see how the model may do better when we are working with more complex datasets in the future. This is especially so, as already mentioned, when we have independent variables that are correlated with each other or that we have a large amount of independent variables to deal with.\n",
    "\n",
    "Another important thing as well, is that while we chose alpha = 0.1, this is not necessarily the optimimum value for alpha and we can see how the coefficients change over different penalty values over the life of the model. For this we can select different alpha values and see that as the penalty increases (alpha increases) that more and more coefficients are reduced to zero."
   ]
  },
  {
   "cell_type": "code",
   "execution_count": 16,
   "id": "a8ec97bd",
   "metadata": {},
   "outputs": [
    {
     "name": "stderr",
     "output_type": "stream",
     "text": [
      "C:\\Users\\phili\\anaconda3\\envs\\DSS\\lib\\site-packages\\sklearn\\linear_model\\_coordinate_descent.py:526: ConvergenceWarning: Objective did not converge. You might want to increase the number of iterations. Duality gap: 3392.8362225630335, tolerance: 31.565218279999996\n",
      "  model = cd_fast.enet_coordinate_descent_gram(\n",
      "C:\\Users\\phili\\anaconda3\\envs\\DSS\\lib\\site-packages\\sklearn\\linear_model\\_coordinate_descent.py:526: ConvergenceWarning: Objective did not converge. You might want to increase the number of iterations. Duality gap: 2380.3107569991107, tolerance: 31.565218279999996\n",
      "  model = cd_fast.enet_coordinate_descent_gram(\n",
      "C:\\Users\\phili\\anaconda3\\envs\\DSS\\lib\\site-packages\\sklearn\\linear_model\\_coordinate_descent.py:526: ConvergenceWarning: Objective did not converge. You might want to increase the number of iterations. Duality gap: 2349.5384099726393, tolerance: 31.565218279999996\n",
      "  model = cd_fast.enet_coordinate_descent_gram(\n",
      "C:\\Users\\phili\\anaconda3\\envs\\DSS\\lib\\site-packages\\sklearn\\linear_model\\_coordinate_descent.py:526: ConvergenceWarning: Objective did not converge. You might want to increase the number of iterations. Duality gap: 2245.8854894905726, tolerance: 31.565218279999996\n",
      "  model = cd_fast.enet_coordinate_descent_gram(\n",
      "C:\\Users\\phili\\anaconda3\\envs\\DSS\\lib\\site-packages\\sklearn\\linear_model\\_coordinate_descent.py:526: ConvergenceWarning: Objective did not converge. You might want to increase the number of iterations. Duality gap: 2226.582398411132, tolerance: 31.565218279999996\n",
      "  model = cd_fast.enet_coordinate_descent_gram(\n"
     ]
    },
    {
     "data": {
      "image/png": "[encoded data removed]",
      "text/plain": [
       "<Figure size 432x288 with 1 Axes>"
      ]
     },
     "metadata": {
      "needs_background": "light"
     },
     "output_type": "display_data"
    }
   ],
   "source": [
    "#import the necessary modules\n",
    "from itertools import cycle\n",
    "from sklearn.linear_model import lasso_path\n",
    "import numpy as np\n",
    "import matplotlib.pyplot as plt\n",
    "\n",
    "#run the lasso path\n",
    "alphas_lasso, coefs_lasso, _ = lasso_path(X_train, y_train.values.reshape(-1),\n",
    "                                          alphas = [.0001, .001, .01,.1, .5, 1, 10, 100, 1000, 10000], \n",
    "                                          fit_intercept=False)\n",
    "\n",
    "\n",
    "#plot the coefficients over the path\n",
    "log_alphas_lasso = np.log10(alphas_lasso)\n",
    "for index, coef_l in enumerate(coefs_lasso):\n",
    "    l1 = plt.plot(log_alphas_lasso, coef_l,\n",
    "                 label = X_train.columns.values[index])\n",
    "\n",
    "    #add labels\n",
    "plt.xlabel('Log(alpha)')\n",
    "plt.ylabel('coefficients')\n",
    "plt.title('Lasso Path')\n",
    "plt.axis('tight')\n",
    "\n",
    "plt.legend(bbox_to_anchor = (0.7, 0.3, 0.5, 0.5))\n",
    "#sho the model\n",
    "plt.show()"
   ]
  },
  {
   "cell_type": "markdown",
   "id": "751d264d",
   "metadata": {},
   "source": [
    "What this shows is how the coefficients of the model vary over the range of possible alpha values whereby a small alpha means that several variables still have influence in the model, as can be seen with X1, X7 and X6 early on in the model. \n",
    "\n",
    "We can then start to also examine which alpha provides the best fitting model also, which if you want to know more you can go [here](https://scikit-learn.org/stable/auto_examples/linear_model/plot_lasso_model_selection.html#sphx-glr-auto-examples-linear-model-plot-lasso-model-selection-py)."
   ]
  },
  {
   "cell_type": "markdown",
   "id": "9dd5a1d9",
   "metadata": {},
   "source": [
    "<a id = \"rr\"></a>"
   ]
  },
  {
   "cell_type": "markdown",
   "id": "d025c490",
   "metadata": {},
   "source": [
    "## Ridge regression\n",
    "\n",
    "Ridge regression is also able to perform regularisation on the dataset to be able to control both over and underfitting in the model. This does so by using the following equation:\n",
    "\n",
    "\\begin{equation}\n",
    "RSS_{RIDGE}(w, b) = \\sum_{i=1}^N (y_i - (w \\cdot x_i + b))^2 + \\alpha \\sum_{j=1}^p w_j^2\n",
    "\\end{equation}\n",
    "\n",
    "The power of Ridge Regression is that it minimises the RSS by enforcing the coefficients to be lower (in effect introducing a penalty), but it does not enforce them to be zero (as in Lasso regression). The effect of this penalty, as seen above, is effectively the <b>square of the magniture</b> of the coefficients. This therefore uses the other version of regularisation known as L2 regularisation.\n",
    "\n",
    "This therefore leaves the choice of the $\\alpha$ paramater which can be done several ways. The more traditional, statistical approach, would be to choose $\\alpha$ that would reduce some information criteria, such as AIC or BIC. The alternative would be to perform cross-validation and selection the $\\alpha$ value that would minimise the cross-validest sum of squared residuals (or some other measure). While the former approach emphasizes the model's fit to the data, the latter is more focused on its predicted performance.\n",
    "\n",
    "Therefore, as we have done for linear regression we can implement Ridge regression with almsot the same syntax as before:"
   ]
  },
  {
   "cell_type": "code",
   "execution_count": 17,
   "id": "695f22bd",
   "metadata": {},
   "outputs": [
    {
     "data": {
      "text/plain": [
       "Ridge()"
      ]
     },
     "execution_count": 17,
     "metadata": {},
     "output_type": "execute_result"
    }
   ],
   "source": [
    "from sklearn.linear_model import Ridge\n",
    "\n",
    "ridge_model = Ridge(alpha = 1.0)\n",
    "ridge_model.fit(X_train, y_train)"
   ]
  },
  {
   "cell_type": "markdown",
   "id": "17249927",
   "metadata": {},
   "source": [
    "Now that thel model has been fit, we can examine how it has worked by looking at the coefficients:"
   ]
  },
  {
   "cell_type": "code",
   "execution_count": 18,
   "id": "c7f30783",
   "metadata": {},
   "outputs": [
    {
     "data": {
      "text/html": [
       "<div>\n",
       "<style scoped>\n",
       "    .dataframe tbody tr th:only-of-type {\n",
       "        vertical-align: middle;\n",
       "    }\n",
       "\n",
       "    .dataframe tbody tr th {\n",
       "        vertical-align: top;\n",
       "    }\n",
       "\n",
       "    .dataframe thead th {\n",
       "        text-align: right;\n",
       "    }\n",
       "</style>\n",
       "<table border=\"1\" class=\"dataframe\">\n",
       "  <thead>\n",
       "    <tr style=\"text-align: right;\">\n",
       "      <th></th>\n",
       "      <th>var</th>\n",
       "      <th>coef</th>\n",
       "    </tr>\n",
       "  </thead>\n",
       "  <tbody>\n",
       "    <tr>\n",
       "      <th>0</th>\n",
       "      <td>X1</td>\n",
       "      <td>-3.648339</td>\n",
       "    </tr>\n",
       "    <tr>\n",
       "      <th>1</th>\n",
       "      <td>X2</td>\n",
       "      <td>0.012609</td>\n",
       "    </tr>\n",
       "    <tr>\n",
       "      <th>2</th>\n",
       "      <td>X3</td>\n",
       "      <td>0.035442</td>\n",
       "    </tr>\n",
       "    <tr>\n",
       "      <th>3</th>\n",
       "      <td>X4</td>\n",
       "      <td>-0.011416</td>\n",
       "    </tr>\n",
       "    <tr>\n",
       "      <th>4</th>\n",
       "      <td>X5</td>\n",
       "      <td>5.307185</td>\n",
       "    </tr>\n",
       "    <tr>\n",
       "      <th>5</th>\n",
       "      <td>X6</td>\n",
       "      <td>-0.008634</td>\n",
       "    </tr>\n",
       "    <tr>\n",
       "      <th>6</th>\n",
       "      <td>X7</td>\n",
       "      <td>18.218816</td>\n",
       "    </tr>\n",
       "    <tr>\n",
       "      <th>7</th>\n",
       "      <td>X8</td>\n",
       "      <td>0.269722</td>\n",
       "    </tr>\n",
       "  </tbody>\n",
       "</table>\n",
       "</div>"
      ],
      "text/plain": [
       "  var       coef\n",
       "0  X1  -3.648339\n",
       "1  X2   0.012609\n",
       "2  X3   0.035442\n",
       "3  X4  -0.011416\n",
       "4  X5   5.307185\n",
       "5  X6  -0.008634\n",
       "6  X7  18.218816\n",
       "7  X8   0.269722"
      ]
     },
     "execution_count": 18,
     "metadata": {},
     "output_type": "execute_result"
    }
   ],
   "source": [
    "df_coef_ridge = pd.DataFrame({\"var\": X_train.columns,\n",
    "                              \"coef\":ridge_model.coef_[0]})\n",
    "df_coef_ridge"
   ]
  },
  {
   "cell_type": "markdown",
   "id": "3bc5c68b",
   "metadata": {},
   "source": [
    "From this we can see the main differrence between this and the original Lasso regression is that, although the some of the coefficients have come close to 0, they have not actually reached zero. This is because the penalty does not reduce them all the way, and indeed never will, despite how much we may increase the alpha paramater. This means that feature selection is not performed with this model, depsite the penalty being introduced.\n",
    "\n",
    "We can then see how the model has performed on our dataset:"
   ]
  },
  {
   "cell_type": "code",
   "execution_count": 49,
   "id": "8323b8e7",
   "metadata": {},
   "outputs": [
    {
     "data": {
      "text/plain": [
       "0.9128636836305432"
      ]
     },
     "execution_count": 49,
     "metadata": {},
     "output_type": "execute_result"
    }
   ],
   "source": [
    "ridge_model.score(X_train, y_train)"
   ]
  },
  {
   "cell_type": "markdown",
   "id": "8c336476",
   "metadata": {},
   "source": [
    "Where we can see that the model has performed better than the Lasso regression, but still has performed worse than the base linear regression.\n",
    "\n",
    "We can see how it then works on unseen data by examining the predictions:"
   ]
  },
  {
   "cell_type": "code",
   "execution_count": 50,
   "id": "eb1ba1fe",
   "metadata": {},
   "outputs": [
    {
     "data": {
      "text/plain": [
       "array([[19.50842818],\n",
       "       [13.73574341],\n",
       "       [31.71676819],\n",
       "       [35.52411655],\n",
       "       [15.78648348],\n",
       "       [28.78904751],\n",
       "       [25.97276733],\n",
       "       [28.71422413],\n",
       "       [17.71877538],\n",
       "       [27.88930839],\n",
       "       [18.23231553],\n",
       "       [33.3787685 ],\n",
       "       [28.1331269 ],\n",
       "       [ 8.24957775],\n",
       "       [18.79766191],\n",
       "       [35.57214766],\n",
       "       [36.37267819],\n",
       "       [10.71267855],\n",
       "       [14.20138501],\n",
       "       [33.37013413],\n",
       "       [33.98497074],\n",
       "       [34.7322204 ],\n",
       "       [10.98565224],\n",
       "       [30.07574044],\n",
       "       [13.32338268],\n",
       "       [30.06710606],\n",
       "       [33.07659724],\n",
       "       [33.95906762],\n",
       "       [14.98595295],\n",
       "       [16.74970264],\n",
       "       [ 7.44904723],\n",
       "       [10.15596654],\n",
       "       [15.51676184],\n",
       "       [30.71270504],\n",
       "       [29.24067242],\n",
       "       [28.69695538],\n",
       "       [31.42114344],\n",
       "       [29.24930679],\n",
       "       [33.06796287],\n",
       "       [ 8.44874978],\n",
       "       [29.50612028],\n",
       "       [10.72131292],\n",
       "       [ 6.35714652],\n",
       "       [32.6358913 ],\n",
       "       [ 7.61599043],\n",
       "       [ 6.34851215],\n",
       "       [ 8.88541461],\n",
       "       [ 8.45738415],\n",
       "       [29.36362561],\n",
       "       [31.13567096],\n",
       "       [33.34631887],\n",
       "       [14.81462995],\n",
       "       [13.97956193],\n",
       "       [32.78265975],\n",
       "       [12.25182436],\n",
       "       [13.04502667],\n",
       "       [10.17323529],\n",
       "       [31.77432283],\n",
       "       [38.84441336],\n",
       "       [35.8418693 ],\n",
       "       [16.2434907 ],\n",
       "       [20.04787145],\n",
       "       [14.78872682],\n",
       "       [29.0415004 ],\n",
       "       [29.49748591],\n",
       "       [30.04983732],\n",
       "       [30.05847169],\n",
       "       [11.00292099],\n",
       "       [14.28660184],\n",
       "       [10.44295692],\n",
       "       [27.33259638],\n",
       "       [32.25621146],\n",
       "       [13.52793702],\n",
       "       [28.24096987],\n",
       "       [32.36616967],\n",
       "       [10.16460091],\n",
       "       [34.50714526],\n",
       "       [31.25214831],\n",
       "       [31.17732493],\n",
       "       [24.5478343 ],\n",
       "       [26.52084497],\n",
       "       [32.80856287],\n",
       "       [ 8.98819304],\n",
       "       [16.77560576],\n",
       "       [11.53372988],\n",
       "       [15.01054991],\n",
       "       [27.17024645],\n",
       "       [35.29379166],\n",
       "       [29.25794117],\n",
       "       [14.96004983],\n",
       "       [12.51421778],\n",
       "       [30.96515793],\n",
       "       [ 9.70759369],\n",
       "       [14.54490831],\n",
       "       [35.83323492],\n",
       "       [14.52763957],\n",
       "       [27.71832409],\n",
       "       [30.45114651],\n",
       "       [ 9.27518342],\n",
       "       [ 8.46601852],\n",
       "       [38.03524846],\n",
       "       [28.42723375],\n",
       "       [ 7.1793256 ],\n",
       "       [28.42875166],\n",
       "       [29.91170325],\n",
       "       [19.23870655],\n",
       "       [27.95397949],\n",
       "       [19.77814982],\n",
       "       [15.69541306],\n",
       "       [ 9.89487928],\n",
       "       [32.82205649],\n",
       "       [33.20123769],\n",
       "       [25.70304569],\n",
       "       [16.99074036],\n",
       "       [10.42568817],\n",
       "       [14.19275064],\n",
       "       [10.49948984],\n",
       "       [ 7.71876886],\n",
       "       [13.51930265],\n",
       "       [25.23235875],\n",
       "       [28.15903002],\n",
       "       [10.76921147],\n",
       "       [30.45209723],\n",
       "       [16.479981  ],\n",
       "       [27.61095238],\n",
       "       [18.77175879],\n",
       "       [15.97376907],\n",
       "       [30.31955895],\n",
       "       [26.51221059],\n",
       "       [38.02661409],\n",
       "       [23.60280807],\n",
       "       [33.35286538],\n",
       "       [16.48861538],\n",
       "       [13.18441372],\n",
       "       [14.18411627],\n",
       "       [18.51067153],\n",
       "       [33.17533457],\n",
       "       [35.51548218],\n",
       "       [12.88878897],\n",
       "       [17.97986264],\n",
       "       [ 8.4401154 ],\n",
       "       [38.82714461],\n",
       "       [29.24503302],\n",
       "       [31.14430534],\n",
       "       [33.61604051],\n",
       "       [11.26400824],\n",
       "       [ 7.97122175],\n",
       "       [27.323962  ],\n",
       "       [33.88576214],\n",
       "       [32.24321648],\n",
       "       [32.79824124],\n",
       "       [29.65925036],\n",
       "       [29.38952873],\n",
       "       [11.9907371 ],\n",
       "       [27.97988261],\n",
       "       [17.97122827],\n",
       "       [29.64198162],\n",
       "       [30.06541881],\n",
       "       [11.78618276],\n",
       "       [30.35240919],\n",
       "       [32.78960686],\n",
       "       [31.98212922],\n",
       "       [19.76088107],\n",
       "       [12.23586178],\n",
       "       [15.24704021],\n",
       "       [13.0363923 ],\n",
       "       [28.50205713],\n",
       "       [32.56096923],\n",
       "       [33.64849013],\n",
       "       [ 9.96004657],\n",
       "       [11.41173681],\n",
       "       [32.55233485],\n",
       "       [ 8.25821213],\n",
       "       [31.97785545],\n",
       "       [14.56495784],\n",
       "       [35.27166366],\n",
       "       [11.2467395 ],\n",
       "       [13.71522261],\n",
       "       [33.10041249],\n",
       "       [33.10904687],\n",
       "       [ 6.37441527],\n",
       "       [15.45159455],\n",
       "       [33.0593285 ],\n",
       "       [13.70658824],\n",
       "       [30.08268755],\n",
       "       [12.52285216],\n",
       "       [29.25366739],\n",
       "       [12.62770171],\n",
       "       [11.17293783],\n",
       "       [34.98467328],\n",
       "       [25.24099313],\n",
       "       [16.71238436],\n",
       "       [35.56351329],\n",
       "       [ 7.17069122],\n",
       "       [32.2691196 ],\n",
       "       [33.06965013],\n",
       "       [26.24248896],\n",
       "       [13.51066827],\n",
       "       [28.41859938],\n",
       "       [11.27264262],\n",
       "       [13.90576026],\n",
       "       [33.32905013],\n",
       "       [19.7522467 ],\n",
       "       [29.90306888],\n",
       "       [10.1528929 ],\n",
       "       [33.97633636],\n",
       "       [28.24960425],\n",
       "       [29.51475465],\n",
       "       [26.6567063 ],\n",
       "       [12.42314737],\n",
       "       [34.246058  ],\n",
       "       [17.53018363],\n",
       "       [18.96898492],\n",
       "       [31.16869055],\n",
       "       [ 5.08772235],\n",
       "       [13.24958101],\n",
       "       [28.40284854],\n",
       "       [30.17279051],\n",
       "       [30.95652356],\n",
       "       [13.70984029],\n",
       "       [28.2323355 ],\n",
       "       [ 9.69895931],\n",
       "       [25.68577695],\n",
       "       [32.79992849],\n",
       "       [18.78039316],\n",
       "       [14.71492516],\n",
       "       [17.96259389],\n",
       "       [28.14176128],\n",
       "       [32.10508241],\n",
       "       [14.97731858],\n",
       "       [30.6954363 ]])"
      ]
     },
     "execution_count": 50,
     "metadata": {},
     "output_type": "execute_result"
    }
   ],
   "source": [
    "ridge_model.predict(X_test)"
   ]
  },
  {
   "cell_type": "markdown",
   "id": "d551b1bf",
   "metadata": {},
   "source": [
    "And then the score:"
   ]
  },
  {
   "cell_type": "code",
   "execution_count": 51,
   "id": "31743c9e",
   "metadata": {},
   "outputs": [
    {
     "data": {
      "text/plain": [
       "0.9085287497226727"
      ]
     },
     "execution_count": 51,
     "metadata": {},
     "output_type": "execute_result"
    }
   ],
   "source": [
    "ridge_model.score(X_test, y_test)"
   ]
  },
  {
   "cell_type": "markdown",
   "id": "5c47063d",
   "metadata": {},
   "source": [
    "Like before, knowing that the model is working on unseen data, the performance of the model drops. However this is to be expected. \n",
    "\n",
    "However, we know that we just selected a single alpha value for the original model whereas we can find the optimal alpha value using RidgeCV. This works by performing Leave-One-Out Cross-Validation to ensure that we get the best alpha value for the model through a range of values. To this end then we can feed it a range of values to test over:"
   ]
  },
  {
   "cell_type": "code",
   "execution_count": 70,
   "id": "3cf14232",
   "metadata": {},
   "outputs": [
    {
     "data": {
      "text/plain": [
       "RidgeCV(alphas=array([1.e-06, 1.e-05, 1.e-04, 1.e-03, 1.e-02, 1.e-01, 1.e+00, 1.e+01,\n",
       "       1.e+02, 1.e+03, 1.e+04, 1.e+05, 1.e+06]))"
      ]
     },
     "execution_count": 70,
     "metadata": {},
     "output_type": "execute_result"
    }
   ],
   "source": [
    "#import the model\n",
    "from sklearn.linear_model import RidgeCV\n",
    "\n",
    "#create the model\n",
    "ridgeCV_model = RidgeCV(alphas = np.logspace(-6, 6, 13))\n",
    "#implement it on training data\n",
    "ridgeCV_model.fit(X_train, y_train)"
   ]
  },
  {
   "cell_type": "markdown",
   "id": "aeab197b",
   "metadata": {},
   "source": [
    "Once this has been completed, we can use the `alpha_` attribute to be able to extract the best estimated regularisation paramater to implement:"
   ]
  },
  {
   "cell_type": "code",
   "execution_count": 72,
   "id": "a0d73b95",
   "metadata": {},
   "outputs": [
    {
     "data": {
      "text/plain": [
       "0.001"
      ]
     },
     "execution_count": 72,
     "metadata": {},
     "output_type": "execute_result"
    }
   ],
   "source": [
    "ridgeCV_model.alpha_"
   ]
  },
  {
   "cell_type": "markdown",
   "id": "a5f75860",
   "metadata": {},
   "source": [
    "Which we can see here is given by 0.001. \n",
    "\n",
    "With this in mind, we can try to redo the model as before and check the results:"
   ]
  },
  {
   "cell_type": "code",
   "execution_count": 73,
   "id": "b51fef10",
   "metadata": {},
   "outputs": [
    {
     "data": {
      "text/plain": [
       "Ridge(alpha=0.001)"
      ]
     },
     "execution_count": 73,
     "metadata": {},
     "output_type": "execute_result"
    }
   ],
   "source": [
    "#implement the model with the new alpha\n",
    "ridge_model = Ridge(alpha = 0.001)\n",
    "#fit the model\n",
    "ridge_model.fit(X_train, y_train)"
   ]
  },
  {
   "cell_type": "code",
   "execution_count": 74,
   "id": "da217fa9",
   "metadata": {},
   "outputs": [
    {
     "data": {
      "text/plain": [
       "0.9173454869664193"
      ]
     },
     "execution_count": 74,
     "metadata": {},
     "output_type": "execute_result"
    }
   ],
   "source": [
    "#check the score on the original data\n",
    "ridge_model.score(X_train, y_train)"
   ]
  },
  {
   "cell_type": "code",
   "execution_count": 75,
   "id": "1c6c80cc",
   "metadata": {},
   "outputs": [
    {
     "data": {
      "text/plain": [
       "0.9128137902284486"
      ]
     },
     "execution_count": 75,
     "metadata": {},
     "output_type": "execute_result"
    }
   ],
   "source": [
    "#check the score with the new data\n",
    "ridge_model.score(X_test, y_test)"
   ]
  },
  {
   "cell_type": "markdown",
   "id": "150d96b7",
   "metadata": {},
   "source": [
    "We can now see that, using the $R^2$ metric, the trained trained ridge_model with the optimal alpha now actually outperforms the base regression (at least only marginally anyway). Thus, some degree of penalty improves the models generality to ensure there is less chance, or degree, of overfitting in the original model."
   ]
  },
  {
   "cell_type": "markdown",
   "id": "818e71f9",
   "metadata": {},
   "source": [
    "## Lasso v Ridge\n",
    "\n",
    "The important question then becomes, under what scenario should Lasso or Ridge regression be used. This will fundemantally depend on the data in question as:\n",
    "\n",
    "1. Lasso performs efficient variable selection by setting some of the coefficients to zero, which is not the case in Ridge Regression.\n",
    "\n",
    "\n",
    "2. Lasso performs better if there are small number of indepedent features or significant paramaters (only when a few predictors influence the response)\n",
    "\n",
    "\n",
    "3. Ridge works well if there are large number of independent features or significnat paramaters (when most predictrs impact the response)\n",
    "\n",
    "\n",
    "4. It is often best to use both models through cross-validation to select the model best suited to the case"
   ]
  },
  {
   "cell_type": "markdown",
   "id": "1a75035c",
   "metadata": {},
   "source": [
    "<a id=\"enr\"></a>"
   ]
  },
  {
   "cell_type": "markdown",
   "id": "7aaaa1ec",
   "metadata": {},
   "source": [
    "## Elastic net regression\n",
    "\n",
    "Elastic-Net Regression is a mix between LASSO and Ridge regression by adding both term (L1 regularisation and L2 regularisation) to calculate the cost function and hence model coefficients.\n",
    "\n",
    "Elastic-net is useful when there are multiple features that are correlated with one another. "
   ]
  },
  {
   "cell_type": "code",
   "execution_count": 39,
   "id": "c75b2f8b",
   "metadata": {},
   "outputs": [
    {
     "name": "stderr",
     "output_type": "stream",
     "text": [
      "C:\\Users\\phili\\anaconda3\\envs\\DSS\\lib\\site-packages\\sklearn\\linear_model\\_coordinate_descent.py:530: ConvergenceWarning: Objective did not converge. You might want to increase the number of iterations. Duality gap: 1017.6255893549776, tolerance: 5.454953316424581\n",
      "  model = cd_fast.enet_coordinate_descent(\n"
     ]
    },
    {
     "data": {
      "text/plain": [
       "ElasticNet(alpha=5e-05, random_state=0)"
      ]
     },
     "execution_count": 39,
     "metadata": {},
     "output_type": "execute_result"
    }
   ],
   "source": [
    "from sklearn.linear_model import ElasticNet\n",
    "\n",
    "en_model = ElasticNet(random_state = 0, \n",
    "                     alpha = 0.00005)\n",
    "en_model.fit(X_train, y_train)"
   ]
  },
  {
   "cell_type": "code",
   "execution_count": 64,
   "id": "970fe8ee",
   "metadata": {},
   "outputs": [
    {
     "data": {
      "text/html": [
       "<div>\n",
       "<style scoped>\n",
       "    .dataframe tbody tr th:only-of-type {\n",
       "        vertical-align: middle;\n",
       "    }\n",
       "\n",
       "    .dataframe tbody tr th {\n",
       "        vertical-align: top;\n",
       "    }\n",
       "\n",
       "    .dataframe thead th {\n",
       "        text-align: right;\n",
       "    }\n",
       "</style>\n",
       "<table border=\"1\" class=\"dataframe\">\n",
       "  <thead>\n",
       "    <tr style=\"text-align: right;\">\n",
       "      <th></th>\n",
       "      <th>var</th>\n",
       "      <th>coef</th>\n",
       "    </tr>\n",
       "  </thead>\n",
       "  <tbody>\n",
       "    <tr>\n",
       "      <th>0</th>\n",
       "      <td>X1</td>\n",
       "      <td>-51.617707</td>\n",
       "    </tr>\n",
       "    <tr>\n",
       "      <th>1</th>\n",
       "      <td>X2</td>\n",
       "      <td>-0.062387</td>\n",
       "    </tr>\n",
       "    <tr>\n",
       "      <th>2</th>\n",
       "      <td>X3</td>\n",
       "      <td>0.052457</td>\n",
       "    </tr>\n",
       "    <tr>\n",
       "      <th>3</th>\n",
       "      <td>X4</td>\n",
       "      <td>-0.010188</td>\n",
       "    </tr>\n",
       "    <tr>\n",
       "      <th>4</th>\n",
       "      <td>X5</td>\n",
       "      <td>4.377995</td>\n",
       "    </tr>\n",
       "    <tr>\n",
       "      <th>5</th>\n",
       "      <td>X6</td>\n",
       "      <td>-0.020223</td>\n",
       "    </tr>\n",
       "    <tr>\n",
       "      <th>6</th>\n",
       "      <td>X7</td>\n",
       "      <td>19.949765</td>\n",
       "    </tr>\n",
       "    <tr>\n",
       "      <th>7</th>\n",
       "      <td>X8</td>\n",
       "      <td>0.232240</td>\n",
       "    </tr>\n",
       "  </tbody>\n",
       "</table>\n",
       "</div>"
      ],
      "text/plain": [
       "  var       coef\n",
       "0  X1 -51.617707\n",
       "1  X2  -0.062387\n",
       "2  X3   0.052457\n",
       "3  X4  -0.010188\n",
       "4  X5   4.377995\n",
       "5  X6  -0.020223\n",
       "6  X7  19.949765\n",
       "7  X8   0.232240"
      ]
     },
     "execution_count": 64,
     "metadata": {},
     "output_type": "execute_result"
    }
   ],
   "source": [
    "df_coef_en = pd.DataFrame({\"var\": X_train.columns,\n",
    "                          \"coef\":en_model.coef_})\n",
    "df_coef_en"
   ]
  },
  {
   "cell_type": "code",
   "execution_count": 41,
   "id": "f2287381",
   "metadata": {},
   "outputs": [
    {
     "data": {
      "text/plain": [
       "0.9171884684445646"
      ]
     },
     "execution_count": 41,
     "metadata": {},
     "output_type": "execute_result"
    }
   ],
   "source": [
    "en_model.score(X_train, y_train)"
   ]
  },
  {
   "cell_type": "code",
   "execution_count": 42,
   "id": "f60a43e2",
   "metadata": {},
   "outputs": [
    {
     "data": {
      "text/plain": [
       "0.9125818228959351"
      ]
     },
     "execution_count": 42,
     "metadata": {},
     "output_type": "execute_result"
    }
   ],
   "source": [
    "en_model.score(X_test, y_test)"
   ]
  },
  {
   "cell_type": "markdown",
   "id": "efa9b3f9",
   "metadata": {},
   "source": [
    "<a id = \"dtr\"></a>"
   ]
  },
  {
   "cell_type": "markdown",
   "id": "bae66ca0",
   "metadata": {},
   "source": [
    "## Regression tree \n",
    "\n",
    "We will cover a tree more detail next term when we come to classification, however it is important to know that decision trees can also be used for regression purposes (although they have to be set up slightly differently). The benefit of using trees, as opposed to the above methods, is that these methods are based on machine learning and can thus find non-linear relationships between the dependent and independent varaibles. This is often the case when it comes to more complicated datasets that have multiple relationships but of course this can come at a cost of overfitting and also time and resources!\n",
    "\n"
   ]
  },
  {
   "cell_type": "code",
   "execution_count": 45,
   "id": "867de786",
   "metadata": {},
   "outputs": [
    {
     "data": {
      "text/plain": [
       "DecisionTreeRegressor(random_state=42)"
      ]
     },
     "execution_count": 45,
     "metadata": {},
     "output_type": "execute_result"
    }
   ],
   "source": [
    "#import the necessary module\n",
    "from sklearn.tree import DecisionTreeRegressor\n",
    "\n",
    "#create the regression tree\n",
    "reg_tree = DecisionTreeRegressor(random_state=42)\n",
    "#fit the regression tree\n",
    "reg_tree.fit(X_train, y_train)"
   ]
  },
  {
   "cell_type": "markdown",
   "id": "cef0ed2f",
   "metadata": {},
   "source": [
    "One difference here is that we no longer have coefficients for each paramater as this is no longer a linear model. This means that a relationship between an independent variable and the dependent variable could change throughout the range of possible values and how it interact with other values as well. This means that the model could potentially be described as a black box mechanism in that we don't necessarily know how it works and why it works. In this case, this is especially so as we have given the model effectively free reign by not limiting the amount of branches it can create so we can expect that the model may well be able to accuratly predict all values in the training set. Why don't we take a look?"
   ]
  },
  {
   "cell_type": "code",
   "execution_count": 46,
   "id": "4128e560",
   "metadata": {},
   "outputs": [
    {
     "data": {
      "text/plain": [
       "1.0"
      ]
     },
     "execution_count": 46,
     "metadata": {},
     "output_type": "execute_result"
    }
   ],
   "source": [
    "reg_tree.score(X= X_train, y = y_train)"
   ]
  },
  {
   "cell_type": "markdown",
   "id": "84a31d47",
   "metadata": {},
   "source": [
    "As we can see here above, the model has perfect match in terms of being able to replicate the the desired outcome. This however could be very bad in terms of being able to predict unseen data because it will have overfitted to the nuances of the data that we fed it to train. \n",
    "\n",
    "We can thus test this as:"
   ]
  },
  {
   "cell_type": "code",
   "execution_count": 47,
   "id": "879560a6",
   "metadata": {},
   "outputs": [
    {
     "data": {
      "text/plain": [
       "array([16.35, 13.18, 32.82, 42.49, 16.99, 22.93, 24.29, 28.67, 19.36,\n",
       "       28.88, 18.48, 33.21, 28.03, 10.34, 18.19, 36.96, 35.69, 12.18,\n",
       "       14.54, 33.21, 29.47, 41.64, 11.69, 35.78, 15.16, 35.48, 35.84,\n",
       "       28.01, 17.52, 13.95, 10.46, 12.49, 16.83, 27.27, 36.03, 28.17,\n",
       "       32.53, 36.97, 35.84, 10.55, 28.15, 12.18,  6.4 , 32.75,  6.85,\n",
       "        6.4 ,  7.1 , 10.72, 29.6 , 33.28, 34.24, 12.82, 12.84, 38.33,\n",
       "       12.25, 15.19, 12.29, 25.43, 39.32, 35.64, 14.28, 16.44, 12.92,\n",
       "       23.89, 28.62, 36.7 , 36.97, 11.69, 13.  , 11.8 , 29.87, 32.85,\n",
       "       12.47, 22.79, 32.75, 12.2 , 29.5 , 25.66, 32.82, 19.95, 24.28,\n",
       "       39.04, 10.55, 14.34, 11.59, 12.63, 25.36, 36.96, 37.26, 17.52,\n",
       "       15.36, 25.98, 11.11, 12.97, 35.64, 12.74, 26.45, 29.09, 10.77,\n",
       "       10.64, 40.78, 28.15, 10.46, 29.08, 29.08, 17.23, 23.54, 16.9 ,\n",
       "       14.33, 12.5 , 32.4 , 31.81, 24.58, 14.9 , 12.43, 14.45, 11.14,\n",
       "       10.34, 12.47, 21.46, 28.05, 11.14, 24.77, 13.95, 28.83, 18.19,\n",
       "       14.47, 36.7 , 24.28, 40.15, 15.55, 33.27, 13.95, 14.22, 14.33,\n",
       "       19.13, 31.12, 42.08, 14.71, 19.2 , 10.68, 38.89, 28.56, 32.07,\n",
       "       36.45, 11.33, 10.15, 27.9 , 35.67, 39.04, 37.24, 29.87, 30.05,\n",
       "       12.28, 22.93, 19.2 , 29.87, 32.33, 11.34, 33.27, 37.24, 39.97,\n",
       "       16.9 , 15.2 , 17.14, 15.19, 23.84, 32.21, 33.21, 11.32,  8.49,\n",
       "       32.21, 10.34, 32.69, 12.74, 42.77, 11.33, 14.41, 32.33, 33.16,\n",
       "        6.4 , 14.51, 35.84, 14.39, 33.48, 15.41, 28.67, 14.5 , 12.57,\n",
       "       43.1 , 21.46, 15.09, 36.96, 10.46, 38.67, 39.01, 24.28, 12.47,\n",
       "       28.15, 11.33, 14.55, 35.05, 16.74, 28.4 , 10.85, 29.47, 22.93,\n",
       "       28.56, 26.48, 12.95, 28.93, 14.92, 17.17, 32.71,  6.05, 12.91,\n",
       "       28.03, 28.4 , 25.98, 13.17, 22.79, 11.16, 24.63, 38.33, 18.19,\n",
       "       14.71, 19.2 , 28.03, 32.39, 17.52, 27.27])"
      ]
     },
     "execution_count": 47,
     "metadata": {},
     "output_type": "execute_result"
    }
   ],
   "source": [
    "reg_tree.predict(X_test)"
   ]
  },
  {
   "cell_type": "code",
   "execution_count": 48,
   "id": "8a878edf",
   "metadata": {},
   "outputs": [
    {
     "data": {
      "text/plain": [
       "0.9965565405329665"
      ]
     },
     "execution_count": 48,
     "metadata": {},
     "output_type": "execute_result"
    }
   ],
   "source": [
    "#R2 score\n",
    "reg_tree.score(X=X_test, y=y_test)"
   ]
  },
  {
   "cell_type": "markdown",
   "id": "3693e92c",
   "metadata": {},
   "source": [
    "What is remarkable here is that the the predictive ability remains for the unseen data here, suggesting that the relationships seen in the training data appear very strongly also in the unseen data. In reality however, and in many other datasets, this is very unlikely to be the case and thus we are likely to have extreme overfitting. \n",
    "\n",
    "One way to potentially limit this, if you are set on using this model, is to limit how many splits are allowed in the model by limiting its max depth. This can be done simply by implementing the `max_depth` paramater and setting a depth of say 5. We can do this as follows:"
   ]
  },
  {
   "cell_type": "code",
   "execution_count": 50,
   "id": "97fcb83d",
   "metadata": {},
   "outputs": [
    {
     "data": {
      "text/plain": [
       "DecisionTreeRegressor(max_depth=5, random_state=42)"
      ]
     },
     "execution_count": 50,
     "metadata": {},
     "output_type": "execute_result"
    }
   ],
   "source": [
    "#create the regression tree\n",
    "reg_tree_limit= DecisionTreeRegressor(random_state=42,\n",
    "                                     max_depth = 5)\n",
    "#fit the regression tree\n",
    "reg_tree_limit.fit(X_train, y_train)"
   ]
  },
  {
   "cell_type": "code",
   "execution_count": 51,
   "id": "db494bfc",
   "metadata": {},
   "outputs": [
    {
     "data": {
      "text/plain": [
       "0.9911552954578272"
      ]
     },
     "execution_count": 51,
     "metadata": {},
     "output_type": "execute_result"
    }
   ],
   "source": [
    "reg_tree_limit.score(X= X_train, y = y_train)"
   ]
  },
  {
   "cell_type": "code",
   "execution_count": 53,
   "id": "28d98a18",
   "metadata": {},
   "outputs": [
    {
     "data": {
      "text/plain": [
       "0.9882274019933065"
      ]
     },
     "execution_count": 53,
     "metadata": {},
     "output_type": "execute_result"
    }
   ],
   "source": [
    "reg_tree_limit.score(X_test, y_test)"
   ]
  },
  {
   "cell_type": "markdown",
   "id": "5368df3e",
   "metadata": {},
   "source": [
    "While this is a rather poor example, at least because the original model was so good at being able to predict out of sample data, you can see here that limiting how deep the model can go has effectively limited the score on the training data (introduced some bias), in the hope of reducing the potenial for variance in when the model has been done on unseen data. \n",
    "\n",
    "Can you create a loop that iteratres through a range of max depths to see how the model performs on both the training and test data? What do you notice?"
   ]
  },
  {
   "cell_type": "code",
   "execution_count": null,
   "id": "adc5d0ac",
   "metadata": {},
   "outputs": [],
   "source": []
  },
  {
   "cell_type": "markdown",
   "id": "d1f0b776",
   "metadata": {},
   "source": [
    "Other paramaters that can be used to train the model to improve its performance, reduce its complexity or improve its generalisability include:\n",
    "\n",
    "- Criterion: Which measures the quality of the split \n",
    "- Splitter: The strategy to split at each node\n",
    "- Max_depth: The maximum depth of the tree\n",
    "- min_samples_split: The minimum number of samples required to split an inetrnal node\n",
    "- min_samples_left: The minimum number of samples required to be at a leaf node\n",
    "- Max_Features: The number of features to consider when looking for the best split\n",
    "\n",
    "Why not play around with a few of these paramaters to see how the model behaves:"
   ]
  },
  {
   "cell_type": "code",
   "execution_count": 49,
   "id": "f6feb6fd",
   "metadata": {},
   "outputs": [
    {
     "data": {
      "text/plain": [
       "array([0.99633373, 0.99459195, 0.99800732, 0.99622028, 0.99671112,\n",
       "       0.99616235, 0.99716635, 0.99623092, 0.99488055, 0.99708301])"
      ]
     },
     "execution_count": 49,
     "metadata": {},
     "output_type": "execute_result"
    }
   ],
   "source": [
    "# from sklearn.model_selection import cross_val_score\n",
    "\n",
    "# cross_val_score(reg_tree, X_train, y_train, cv = 10)"
   ]
  },
  {
   "cell_type": "markdown",
   "id": "8290a068",
   "metadata": {},
   "source": [
    "<a id = \"rfr\"></a>"
   ]
  },
  {
   "cell_type": "markdown",
   "id": "f1305992",
   "metadata": {},
   "source": [
    "## Random forest regression\n",
    "\n",
    "Random Forest Regression is probably a better way of implementing a regression tree as it is an ensemble method. You will learn more about what this means in a latter workshop when we cover Random Forest classification, for now however all you need to know is that this means that random forest regression combines the results from multiple decision trees to make a more accurate prediction.\n",
    "\n",
    "In our case, given our concern with bias and more specifically, overestimation, this helps to ensure that the model does not overfit on the data by ensuring that not all the data is used, all the time, for every single tree, both in terms of the total data and the specific features that are used. Of course, overfitting can still occur, but it attempt to reduce the chances of that as there would be with a single tree. \n",
    "\n",
    "WE can thus begin to implement it as follows:"
   ]
  },
  {
   "cell_type": "code",
   "execution_count": 55,
   "id": "e265ee66",
   "metadata": {},
   "outputs": [
    {
     "data": {
      "text/plain": [
       "RandomForestRegressor(n_estimators=10, random_state=0)"
      ]
     },
     "execution_count": 55,
     "metadata": {},
     "output_type": "execute_result"
    }
   ],
   "source": [
    "#import the necessary library \n",
    "from sklearn.ensemble import RandomForestRegressor\n",
    "\n",
    "#create the random forest\n",
    "reg_random_forest = RandomForestRegressor(n_estimators = 10,\n",
    "                                          random_state=0)\n",
    "#fit the regression to the data\n",
    "reg_random_forest.fit(X_train, y_train.values.reshape(-1))"
   ]
  },
  {
   "cell_type": "markdown",
   "id": "5c038bd6",
   "metadata": {},
   "source": [
    "As before, with a single regression tree, we cannot extract any specific coefficients as this is a non-linear machine learning method. Again, this can be thought of almost as a black box, but we can still predict as we did before:"
   ]
  },
  {
   "cell_type": "code",
   "execution_count": 56,
   "id": "841f1881",
   "metadata": {},
   "outputs": [
    {
     "data": {
      "text/plain": [
       "array([15.093, 15.256, 32.35 , 41.819, 29.63 , 42.808, 12.91 , 13.172,\n",
       "       10.367, 32.231, 11.102, 23.562, 31.667, 29.888,  6.41 , 15.129,\n",
       "       40.362, 14.633, 36.475, 14.321, 11.459, 32.339, 36.32 , 12.827,\n",
       "       10.697, 29.4  , 16.476, 19.392, 16.76 , 12.352, 14.079, 11.203,\n",
       "       13.976, 15.103, 36.687, 26.912, 32.21 , 10.356, 33.022, 41.991,\n",
       "       26.266, 36.963, 12.643, 12.929, 14.339, 15.276, 12.438, 14.536,\n",
       "       19.068, 14.498, 11.697, 17.689, 10.602, 10.728, 32.9  , 32.692,\n",
       "       18.568, 14.559, 11.114, 14.594, 12.78 , 11.172, 36.778, 31.582,\n",
       "       36.674, 19.202, 29.151, 16.274, 14.552, 36.748, 31.93 , 12.289,\n",
       "       12.461, 25.544, 29.14 , 32.539, 36.267, 16.674, 19.166, 26.46 ,\n",
       "       25.49 , 10.68 , 14.126, 12.522, 14.003, 16.846, 39.512, 26.522,\n",
       "       35.722, 12.93 , 12.874, 15.097, 16.76 , 12.658, 15.257, 17.179,\n",
       "       12.306, 26.364, 10.399, 12.828, 11.324, 32.83 , 40.053, 12.675,\n",
       "       12.8  , 12.816, 15.339, 14.034, 32.476, 10.7  , 31.884, 28.422,\n",
       "       12.89 , 15.945, 15.065, 12.852, 32.812, 28.156, 11.245, 14.251,\n",
       "       33.14 , 11.437, 42.8  , 14.325, 37.086, 11.098, 12.594, 32.49 ,\n",
       "       24.284, 14.567, 40.43 , 14.438, 15.239, 11.051, 14.193, 39.325,\n",
       "       36.9  , 12.99 ,  8.467, 26.009, 12.84 , 41.944, 33.045, 24.32 ,\n",
       "       16.614, 39.92 , 25.635, 25.306, 32.365, 18.607, 28.792, 25.264,\n",
       "       41.824, 35.321, 12.839, 11.095, 39.341, 25.393, 25.544, 40.903,\n",
       "       29.154, 10.678, 14.571, 16.568, 15.343, 32.218, 25.637, 32.456,\n",
       "       14.892, 17.153, 12.864, 40.136, 15.28 , 12.979, 35.415, 12.954,\n",
       "       25.368, 25.298, 12.817, 29.102, 10.726, 32.674, 12.458, 32.397,\n",
       "       18.927, 18.183, 36.432, 11.855, 39.848, 39.902,  6.147, 32.799,\n",
       "       10.364,  7.413, 11.96 , 28.743, 29.696, 42.078, 12.4  , 13.993,\n",
       "       11.189, 28.904, 26.644, 10.579, 29.304, 33.103, 14.121, 12.701,\n",
       "       36.62 , 14.615, 10.689, 36.487, 38.762, 26.802, 32.617, 10.589,\n",
       "       15.224, 29.762, 16.84 , 12.735, 23.901, 12.856, 17.232, 41.784,\n",
       "       12.696, 36.625, 29.685, 12.856, 12.941, 11.558, 26.617, 42.059,\n",
       "       19.356, 35.063, 32.34 , 32.069, 16.831, 20.869, 14.067,  8.479,\n",
       "       38.804, 32.414, 10.402, 29.21 , 24.532, 39.769, 14.56 , 15.55 ,\n",
       "       17.221, 28.849, 12.594, 29.474, 28.522, 25.841, 15.34 , 15.32 ,\n",
       "       24.319, 12.687, 12.656, 11.194,  6.096, 14.534, 33.079, 31.752,\n",
       "       24.52 , 12.348, 11.431,  7.437, 23.336, 12.849, 41.521, 12.831,\n",
       "       12.993, 12.73 , 29.112, 38.92 , 10.681, 13.9  , 10.643, 19.398,\n",
       "       24.046, 14.56 , 18.729, 36.262, 39.226, 32.734, 39.63 , 36.979,\n",
       "       14.509, 25.729, 32.04 , 40.394, 28.352, 23.231, 11.084, 29.392,\n",
       "       28.179, 12.982, 12.301, 32.408, 29.42 , 28.992, 39.712, 32.683,\n",
       "       23.746, 14.098, 40.311, 19.24 , 32.722,  7.461, 36.517, 23.933,\n",
       "       26.15 , 32.592, 14.438, 34.772, 32.82 , 29.831, 12.174, 29.125,\n",
       "       15.255, 28.871, 40.458, 29.354, 24.304, 24.109, 15.164, 19.008,\n",
       "       36.169, 25.941, 12.262, 13.179, 15.24 , 10.437, 14.314, 13.015,\n",
       "       29.642, 28.534, 11.316, 33.344, 39.317, 10.328, 11.559, 26.312,\n",
       "       32.139, 28.504, 12.199, 32.458, 11.422, 39.666, 14.694, 14.501,\n",
       "       14.458, 10.237, 31.395, 29.086, 14.501, 40.501, 28.246, 13.881,\n",
       "       12.237, 10.358, 32.065, 28.69 , 39.557, 35.679, 15.328, 16.611,\n",
       "       12.946, 15.249, 14.415, 12.626, 11.941, 42.336, 36.87 , 36.798,\n",
       "       15.183, 17.101, 28.62 , 11.191, 31.603, 34.774, 16.942, 28.814,\n",
       "       11.728, 15.018, 15.15 , 40.04 , 14.29 , 13.828, 14.512, 32.726,\n",
       "       11.67 , 24.034, 23.56 , 13.759,  6.802, 29.198, 10.339, 15.203,\n",
       "       14.056, 32.212, 12.999, 14.44 , 24.335, 17.17 , 12.371, 14.562,\n",
       "       35.825, 23.631, 28.807, 25.364, 14.13 , 10.229, 20.83 , 42.449,\n",
       "       29.218, 15.297, 42.571, 24.18 , 17.179, 35.889, 36.019,  8.489,\n",
       "        6.83 , 26.23 , 11.53 ,  6.073, 35.415, 11.348, 29.051, 17.038,\n",
       "       28.444, 12.366, 32.26 , 41.932, 38.834, 15.267, 23.563, 12.866,\n",
       "       39.871, 11.416, 13.803, 16.815, 35.643, 17.499, 23.193, 10.776,\n",
       "       25.608, 17.083, 15.328, 10.112, 29.084, 28.482, 32.592, 26.399,\n",
       "       12.342, 36.286, 16.56 , 11.012, 25.912, 36.164, 14.362, 39.194,\n",
       "       14.418, 26.901, 15.236, 32.043, 15.736, 16.7  , 14.693, 11.125,\n",
       "       23.122,  6.786, 12.284, 16.768, 36.316, 12.296, 15.227, 28.603,\n",
       "       15.241, 29.723, 24.342, 18.019, 12.465, 14.5  , 28.618, 11.147,\n",
       "       32.511, 18.88 , 39.268, 32.784, 12.734, 11.934, 24.278, 15.202,\n",
       "       14.411, 28.723, 12.635, 14.191, 16.74 , 31.796, 12.228, 26.244,\n",
       "       16.66 , 14.529, 24.034, 25.376, 12.486, 12.244, 36.004, 11.33 ,\n",
       "       12.74 , 28.48 , 12.279, 29.093, 31.895, 36.939, 15.157, 11.326,\n",
       "       14.938, 24.305, 13.03 , 11.69 , 12.006, 17.47 , 33.117, 12.767,\n",
       "       10.426, 15.164, 25.574, 14.597, 32.269, 26.411, 10.989, 28.527,\n",
       "       28.668])"
      ]
     },
     "execution_count": 56,
     "metadata": {},
     "output_type": "execute_result"
    }
   ],
   "source": [
    "rf_pred = reg_random_forest.predict(X_train)\n",
    "rf_pred"
   ]
  },
  {
   "cell_type": "markdown",
   "id": "11ab695b",
   "metadata": {},
   "source": [
    "We can first of all check the score on the training data:"
   ]
  },
  {
   "cell_type": "code",
   "execution_count": 31,
   "id": "b2bd4cde",
   "metadata": {},
   "outputs": [
    {
     "data": {
      "text/plain": [
       "0.999637869613283"
      ]
     },
     "execution_count": 31,
     "metadata": {},
     "output_type": "execute_result"
    }
   ],
   "source": [
    "reg_random_forest.score(X= X_train, y = y_train)"
   ]
  },
  {
   "cell_type": "markdown",
   "id": "2bf5df2d",
   "metadata": {},
   "source": [
    "And then the test data:"
   ]
  },
  {
   "cell_type": "code",
   "execution_count": 33,
   "id": "cce3a51e",
   "metadata": {},
   "outputs": [
    {
     "data": {
      "text/plain": [
       "0.9976901385082313"
      ]
     },
     "execution_count": 33,
     "metadata": {},
     "output_type": "execute_result"
    }
   ],
   "source": [
    "#R2 score\n",
    "reg_random_forest.score(X=X_test, y=y_test)"
   ]
  },
  {
   "cell_type": "markdown",
   "id": "047d1dee",
   "metadata": {},
   "source": [
    "What we can see here is that although the model performs worse on the training data than the decision tree, it actually outperforms the decision tree on the test data. This is because it does not learn completely the training data (although it comes close), it is still able to generalise well.\n",
    "\n",
    "Within the model, as before, we can adjust the paramaters to improve model performance on both the training and test data. These include:\n",
    "\n",
    "- `n_estimators`: The number of trees in the forest\n",
    "- `criterion`: The function to measure the quality of a split\n",
    "- `max_depth`: The maximum depth of the individual trees (as we did before)\n",
    "- `min_samples_split`: The minimum number of samples required to split an internal node\n",
    "\n",
    "Among others which more information can be found [here](https://scikit-learn.org/stable/modules/generated/sklearn.ensemble.RandomForestRegressor.html)\n",
    "\n",
    "A good thing about this model, that reduces the potential for it to be described as a black box, is the ability to draw out the importance of the features, in our case the independent variables. These values should all add up to one, with the largest feature value telling us the most important variable. We can do this as:"
   ]
  },
  {
   "cell_type": "code",
   "execution_count": 71,
   "id": "b4e77fe3",
   "metadata": {},
   "outputs": [
    {
     "data": {
      "text/html": [
       "<div>\n",
       "<style scoped>\n",
       "    .dataframe tbody tr th:only-of-type {\n",
       "        vertical-align: middle;\n",
       "    }\n",
       "\n",
       "    .dataframe tbody tr th {\n",
       "        vertical-align: top;\n",
       "    }\n",
       "\n",
       "    .dataframe thead th {\n",
       "        text-align: right;\n",
       "    }\n",
       "</style>\n",
       "<table border=\"1\" class=\"dataframe\">\n",
       "  <thead>\n",
       "    <tr style=\"text-align: right;\">\n",
       "      <th></th>\n",
       "      <th>variables</th>\n",
       "      <th>Importance</th>\n",
       "    </tr>\n",
       "  </thead>\n",
       "  <tbody>\n",
       "    <tr>\n",
       "      <th>0</th>\n",
       "      <td>X1</td>\n",
       "      <td>52.630925</td>\n",
       "    </tr>\n",
       "    <tr>\n",
       "      <th>1</th>\n",
       "      <td>X2</td>\n",
       "      <td>27.985398</td>\n",
       "    </tr>\n",
       "    <tr>\n",
       "      <th>4</th>\n",
       "      <td>X5</td>\n",
       "      <td>8.030047</td>\n",
       "    </tr>\n",
       "    <tr>\n",
       "      <th>6</th>\n",
       "      <td>X7</td>\n",
       "      <td>7.788439</td>\n",
       "    </tr>\n",
       "    <tr>\n",
       "      <th>2</th>\n",
       "      <td>X3</td>\n",
       "      <td>2.730901</td>\n",
       "    </tr>\n",
       "    <tr>\n",
       "      <th>7</th>\n",
       "      <td>X8</td>\n",
       "      <td>0.611993</td>\n",
       "    </tr>\n",
       "    <tr>\n",
       "      <th>3</th>\n",
       "      <td>X4</td>\n",
       "      <td>0.138967</td>\n",
       "    </tr>\n",
       "    <tr>\n",
       "      <th>5</th>\n",
       "      <td>X6</td>\n",
       "      <td>0.083331</td>\n",
       "    </tr>\n",
       "  </tbody>\n",
       "</table>\n",
       "</div>"
      ],
      "text/plain": [
       "  variables  Importance\n",
       "0        X1   52.630925\n",
       "1        X2   27.985398\n",
       "4        X5    8.030047\n",
       "6        X7    7.788439\n",
       "2        X3    2.730901\n",
       "7        X8    0.611993\n",
       "3        X4    0.138967\n",
       "5        X6    0.083331"
      ]
     },
     "execution_count": 71,
     "metadata": {},
     "output_type": "execute_result"
    }
   ],
   "source": [
    "feature_importances = pd.DataFrame(\n",
    "    {\"variables\":X_train.columns.values,\n",
    "     \"Importance\":reg_random_forest.feature_importances_*100})\n",
    "\n",
    "feature_importances.sort_values(by = \"Importance\",\n",
    "                               inplace = True,\n",
    "                               ascending=False)\n",
    "\n",
    "feature_importances"
   ]
  },
  {
   "cell_type": "code",
   "execution_count": 73,
   "id": "2cee9672",
   "metadata": {},
   "outputs": [
    {
     "data": {
      "image/png": "[encoded data removed]",
      "text/plain": [
       "<Figure size 576x432 with 1 Axes>"
      ]
     },
     "metadata": {
      "needs_background": "light"
     },
     "output_type": "display_data"
    }
   ],
   "source": [
    "fig, ax = plt.subplots(1,1, figsize = (8,6))\n",
    "\n",
    "feature_importances.plot.bar(x = \"variables\",\n",
    "                           y = \"Importance\", \n",
    "                             ax = ax)\n",
    "\n",
    "ax.set_title(\"Random Forest Variable Importance\",\n",
    "            fontsize = 20,\n",
    "            pad = 20)\n",
    "ax.set_ylabel(\"Percentage (%)\",\n",
    "             fontsize = 20,\n",
    "             labelpad = 15)\n",
    "ax.set_xlabel(\"Variable\",\n",
    "             fontsize = 20,\n",
    "             labelpad = 15)\n",
    "\n",
    "ax.tick_params(axis = \"both\",\n",
    "              which = \"both\",\n",
    "              labelsize = 15)"
   ]
  },
  {
   "cell_type": "markdown",
   "id": "6bb353c7",
   "metadata": {},
   "source": [
    "Where we can see that the X1 variable is the most important variable, while the X8, X4 and X6 variables all appear as unimportant in determining the indepenent variable. It is interesting to note here, that all of these variables in most of the other models have also tended to seem unimportant as well, even in the linear relationships, which shows something consistent to a degree."
   ]
  },
  {
   "cell_type": "markdown",
   "id": "1f909546",
   "metadata": {},
   "source": [
    "## Potential sources of information\n",
    "\n",
    "https://medium.com/@alielagrebi/regularization-lasso-ridge-regression-105f426b749c\n",
    "\n",
    "https://medium.com/@viveksalunkhe80/regularization-ridge-and-lasso-582ec7b3ad93\n",
    "\n",
    "https://medium.com/all-about-ml/lasso-and-ridge-regularization-a0df473386d5 (Lasso and Ridge implementation)\n",
    "\n",
    "https://towardsdatascience.com/ridge-and-lasso-regression-a-complete-guide-with-python-scikit-learn-e20e34bcbf0b (lasso and ridge implementtion)\n",
    "\n",
    "https://scikit-learn.org/stable/modules/linear_model.html"
   ]
  }
 ],
 "metadata": {
  "kernelspec": {
   "display_name": "DSS",
   "language": "python",
   "name": "dss"
  },
  "language_info": {
   "codemirror_mode": {
    "name": "ipython",
    "version": 3
   },
   "file_extension": ".py",
   "mimetype": "text/x-python",
   "name": "python",
   "nbconvert_exporter": "python",
   "pygments_lexer": "ipython3",
   "version": "3.9.6"
  }
 },
 "nbformat": 4,
 "nbformat_minor": 5
}
