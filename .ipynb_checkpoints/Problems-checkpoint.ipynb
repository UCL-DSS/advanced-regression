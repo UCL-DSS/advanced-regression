{
 "cells": [
  {
   "cell_type": "markdown",
   "id": "8f685f59",
   "metadata": {},
   "source": [
    "# Data Science workshop 10: Advanced regression (Solutions)\n",
    "\n",
    "Feel free to go through to refer back to the workshop content when solving these problem!\n",
    "\n",
    "## Debugging problems\n",
    "\n",
    "The following problems will have written code that is incorrect or missing in some way. Your job will be to debug it and fix it so that it works as intended. When debugging code, the error messages can foten tell you where a problem may lie. Here the comments indicate what the code is intended to do.\n",
    "\n",
    "For these you will be working with the same dataset as in the [workshop](workshop.ipynb) but now you will be working with Y2 as a target."
   ]
  },
  {
   "cell_type": "markdown",
   "id": "f61f2f20",
   "metadata": {},
   "source": [
    "## 1) Examine the new target variable"
   ]
  },
  {
   "cell_type": "code",
   "execution_count": null,
   "id": "88eab08b",
   "metadata": {},
   "outputs": [],
   "source": [
    "import pandas as pd\n",
    "import numpy as np\n",
    "import matplotlib.pyplot as plt\n",
    "import seaborn as sns\n",
    "\n",
    "#read in the data\n",
    "data = pd.read_csv(??)\n",
    "#remove any data that doesn't have any information attached\n",
    "data.dropna(thresh = 3, inplace = True)\n",
    "data.dropna(axis = 1, inplace = True)\n",
    "#rpint out the data\n",
    "data"
   ]
  },
  {
   "cell_type": "code",
   "execution_count": null,
   "id": "1a5b8e11",
   "metadata": {},
   "outputs": [],
   "source": [
    "#create a correlation matrix\n",
    "corrMatrix = data.??\n",
    "\n",
    "#create the base axis for the plot\n",
    "fig, ax = plt.subplots(1,1, figsize = (8,8))\n",
    "\n",
    "#create a sns heatmap\n",
    "sns.heatmap(corrMatrix.round(3), \n",
    "            annot = True,\n",
    "           ax = ax, \n",
    "            cmap = \"magma\")\n",
    "\n",
    "#show the plot\n",
    "plt.show()"
   ]
  },
  {
   "cell_type": "code",
   "execution_count": null,
   "id": "6512cfac",
   "metadata": {},
   "outputs": [],
   "source": [
    "#create the base axis\n",
    "fig, ax = plt.subplots(1,1, figsize = (10,6))\n",
    "\n",
    "#plot a histogram of Y2\n",
    "data[??].plot.??(ax = ax, \n",
    "                     bins = 25,\n",
    "                    color = \"blue\",\n",
    "                    label = \"Y2\",\n",
    "                    alpha = 0.6)\n",
    "#plot a histogram of Y1\n",
    "data[??].plot.??(ax = ax, bins = 25,\n",
    "                    color = \"red\",\n",
    "                    label = \"Y1\",\n",
    "                    alpha = 0.6)\n",
    "\n",
    "#add a legend\n",
    "ax.legend(fontsize = 20,\n",
    "         title = \"Target variable\",\n",
    "         title_fontsize = 15)\n",
    "\n",
    "#add titles\n",
    "ax.set_title(\"Y2 histogram\",\n",
    "            fontsize = 20,\n",
    "            pad = 20)\n",
    "ax.set_ylabel(\"Frequency\", \n",
    "             fontsize = 20,\n",
    "             labelpad = 20)\n",
    "ax.set_xlabel(\"Y2\",\n",
    "             fontsize = 20,\n",
    "             labelpad = 20)\n",
    "ax.tick_params(axis = \"both\",\n",
    "              which = \"both\",\n",
    "              labelsize = 20)\n",
    "\n",
    "#show the result\n",
    "plt.show()"
   ]
  },
  {
   "cell_type": "markdown",
   "id": "a1d927a5",
   "metadata": {},
   "source": [
    "How does that compare to the distribution of Y1 and how are they related?"
   ]
  },
  {
   "cell_type": "markdown",
   "id": "02ceaf99",
   "metadata": {},
   "source": [
    "## 2) Implement the three linear regression\n",
    "\n",
    "Implement the three linear regression. How do the results compare to thos using the Y1 target variable?"
   ]
  },
  {
   "cell_type": "code",
   "execution_count": null,
   "id": "414fbbd3",
   "metadata": {},
   "outputs": [],
   "source": [
    "#import the splitting function from sklearn\n",
    "from sklearn.?? import train_test_split\n",
    "\n",
    "#remove the necessary target columns\n",
    "X = data.drop(columns = [??])\n",
    "#set Y2 as our target\n",
    "y = data[[??]]\n",
    "\n",
    "#create the training and test data\n",
    "X_train, X_test, y_train, y_test = (\n",
    "    train_test_split(X, y, test_size = ??,\n",
    "                    random_state = 42)\n",
    ")"
   ]
  },
  {
   "cell_type": "code",
   "execution_count": null,
   "id": "fbc04a35",
   "metadata": {},
   "outputs": [],
   "source": [
    "#import the linear regression model\n",
    "from sklearn.?? import LinearRegression\n",
    "\n",
    "#create the linear regression\n",
    "reg = LinearRegression().fit(??, ??)\n",
    "\n",
    "#print the result on the test data\n",
    "print(reg.??(X_test, y_test))"
   ]
  },
  {
   "cell_type": "code",
   "execution_count": null,
   "id": "ff1f88ce",
   "metadata": {},
   "outputs": [],
   "source": [
    "#import the Lasso regression model\n",
    "from sklearn.linear_model import ??\n",
    "\n",
    "#iniate the model with an alpha = 0.1\n",
    "lasso_model = Lasso(??)\n",
    "\n",
    "#fit the model to the data\n",
    "lasso_model.??(X_train, y_train)\n",
    "\n",
    "#print the results on the test data\n",
    "print(lasso_model.score(??, ??))"
   ]
  },
  {
   "cell_type": "code",
   "execution_count": null,
   "id": "1d465507",
   "metadata": {},
   "outputs": [],
   "source": [
    "#import the ridge regression\n",
    "from sklearn.linear_model import ??\n",
    "\n",
    "#initiate the ridge model with an alpha = 0.1\n",
    "ridge_model = ??(alpha = 0.1)\n",
    "\n",
    "#fit the model to the training data\n",
    "ridge_model.fit(??, ??)\n",
    "\n",
    "#print the results on the test data\n",
    "print(ridge_model.??(X_test, y_test))"
   ]
  },
  {
   "cell_type": "markdown",
   "id": "c191dcf3",
   "metadata": {},
   "source": [
    "What could you do to improve these results?"
   ]
  },
  {
   "cell_type": "markdown",
   "id": "63dbb184",
   "metadata": {},
   "source": [
    "## 3) Implement the two non-linear regression\n",
    "\n",
    "Implement the two non-linear regressions. How do the results compare to those using the Y1 target variable?"
   ]
  },
  {
   "cell_type": "code",
   "execution_count": null,
   "id": "f32271a9",
   "metadata": {},
   "outputs": [],
   "source": [
    "#import the decision tree regression module\n",
    "from sklearn.tree import ??\n",
    "\n",
    "#create the regression tree with a max depth of 5\n",
    "reg_tree = ??(random_state = 42,\n",
    "                                ??)\n",
    "\n",
    "#fit the regression tree\n",
    "reg_tree.fit(X_train, y_train)\n",
    "\n",
    "#check the score on the test set\n",
    "reg_tree.score(X_test, y_test)"
   ]
  },
  {
   "cell_type": "code",
   "execution_count": null,
   "id": "103972f3",
   "metadata": {},
   "outputs": [],
   "source": [
    "#import the random forest library\n",
    "from sklearn.ensemble import ??\n",
    "\n",
    "#create the random forest with 10 estimators\n",
    "reg_random_forest = ??(??,\n",
    "                                         random_state = 42)\n",
    "\n",
    "#fit the regression to the data\n",
    "reg_random_forest.fit(X_train, ??)\n",
    "\n",
    "#check the score on the test data\n",
    "print(reg_random_forest.score(X_test, y_test))"
   ]
  },
  {
   "cell_type": "markdown",
   "id": "2747a957",
   "metadata": {},
   "source": [
    "What could you do to improve the results?"
   ]
  },
  {
   "cell_type": "markdown",
   "id": "0e1d7f83",
   "metadata": {},
   "source": [
    "# Coding from scratch \n",
    "\n",
    "This section will include problems where no code is given"
   ]
  },
  {
   "cell_type": "markdown",
   "id": "0afb9085",
   "metadata": {},
   "source": [
    "## 1) Find a dataset that you can perform these models on to test your knowledge\n",
    "\n",
    "Sources include:\n",
    "\n",
    "- [UCI machine learning repository](https://archive.ics.uci.edu/ml/index.php)\n",
    "- [Kaggle](https://www.kaggle.com/)\n",
    "- [Google datasets](https://datasetsearch.research.google.com/)"
   ]
  }
 ],
 "metadata": {
  "kernelspec": {
   "display_name": "DSS",
   "language": "python",
   "name": "dss"
  },
  "language_info": {
   "codemirror_mode": {
    "name": "ipython",
    "version": 3
   },
   "file_extension": ".py",
   "mimetype": "text/x-python",
   "name": "python",
   "nbconvert_exporter": "python",
   "pygments_lexer": "ipython3",
   "version": "3.9.6"
  }
 },
 "nbformat": 4,
 "nbformat_minor": 5
}
